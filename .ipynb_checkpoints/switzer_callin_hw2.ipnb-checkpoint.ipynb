{
 "metadata": {
  "name": "",
  "signature": "sha256:9ac935bdbe0482496fa2cca8b07358a8108e5086c1cf51f63a70be1ae7115128"
 },
 "nbformat": 3,
 "nbformat_minor": 0,
 "worksheets": [
  {
   "cells": [
    {
     "cell_type": "markdown",
     "metadata": {},
     "source": [
      "# Homework 2: More Exploratory Data Analysis\n",
      "## Gene Expression Data and Election Polls \n",
      "\n",
      "Due: Thursday, October 2, 2014 11:59 PM\n",
      "\n",
      "<a href=https://raw.githubusercontent.com/cs109/2014/master/homework/HW2.ipynb download=HW2.ipynb> Download this assignment</a>\n",
      "\n",
      "#### Submission Instructions\n",
      "To submit your homework, create a folder named lastname_firstinitial_hw# and place your IPython notebooks, data files, and any other files in this folder. Your IPython Notebooks should be completely executed with the results visible in the notebook. We should not have to run any code. Compress the folder (please use .zip compression) and submit to the CS109 dropbox in the appropriate folder. If we cannot access your work because these directions are not followed correctly, we will not grade your work.\n",
      "\n",
      "\n",
      "---"
     ]
    },
    {
     "cell_type": "markdown",
     "metadata": {},
     "source": [
      "## Introduction\n",
      "\n",
      "John Tukey wrote in [Exploratory Data Analysis, 1977](http://www.amazon.com/Exploratory-Data-Analysis-Wilder-Tukey/dp/0201076160/ref=pd_bbs_sr_2/103-4466654-5303007?ie=UTF8&s=books&qid=1189739816&sr=8-2): \"The greatest value of a picture is when it forces us to notice what we never expected to see.\" In this assignment we will continue using our exploratory data analysis tools, but apply it to new sets of data: [gene expression](http://en.wikipedia.org/wiki/Gene_expression) and polls from the [2012 Presidental Election](http://en.wikipedia.org/wiki/United_States_presidential_election,_2012) and from the [2014 Senate Midterm Elections](http://en.wikipedia.org/wiki/United_States_Senate_elections,_2014).   \n",
      "\n",
      "**First**: You will use exploratory data analysis and apply the [singular value decomposition](http://en.wikipedia.org/wiki/Singular_value_decomposition) (SVD) to a gene expression data matrix to determine if the the date that the gene expression samples are processed has large effect on the variability seen in the data.  \n",
      "\n",
      "**Second**: You will use the polls from the 2012 Presidential Elections to determine (1) Is there a pollster bias in presidential election polls? and (2) Is the average of polls better than just one poll?\n",
      "\n",
      "**Finally**: You will use the [HuffPost Pollster API](http://elections.huffingtonpost.com/pollster/api) to extract the polls for the current 2014 Senate Midterm Elections and provide a preliminary prediction of the result of each state.\n",
      "\n",
      "#### Data\n",
      "\n",
      "We will use the following data sets: \n",
      "\n",
      "1. A gene expression data set called `exprs_GSE5859.csv` and sample annotation table called `sampleinfo_GSE5859.csv` which are both available on Github in the 2014_data repository: [expression data set](https://github.com/cs109/2014_data/blob/master/exprs_GSE5859.csv) and [sample annotation table](https://github.com/cs109/2014_data/blob/master/sampleinfo_GSE5859.csv).  \n",
      "\n",
      "2. Polls from the [2012 Presidential Election: Barack Obama vs Mitt Romney](http://elections.huffingtonpost.com/pollster/2012-general-election-romney-vs-obama). The polls we will use are from the [Huffington Post Pollster](http://elections.huffingtonpost.com/pollster).  \n",
      "\n",
      "3. Polls from the [2014 Senate Midterm Elections](http://elections.huffingtonpost.com/pollster) from the [HuffPost Pollster API](http://elections.huffingtonpost.com/pollster/api). \n",
      "\n",
      "---"
     ]
    },
    {
     "cell_type": "markdown",
     "metadata": {},
     "source": [
      "## Load Python modules"
     ]
    },
    {
     "cell_type": "code",
     "collapsed": false,
     "input": [
      "# special IPython command to prepare the notebook for matplotlib\n",
      "%matplotlib inline \n",
      "\n",
      "import requests \n",
      "from StringIO import StringIO\n",
      "import numpy as np\n",
      "import pandas as pd # pandas\n",
      "import matplotlib.pyplot as plt # module for plotting \n",
      "import datetime as dt # module for manipulating dates and times\n",
      "import numpy.linalg as lin # module for performing linear algebra operations\n",
      "import scipy\n",
      "import scipy as sp\n",
      "from scipy import linalg\n",
      "from mpl_toolkits.axes_grid.axislines import Subplot"
     ],
     "language": "python",
     "metadata": {},
     "outputs": [],
     "prompt_number": 164
    },
    {
     "cell_type": "markdown",
     "metadata": {},
     "source": [
      "## Problem 1\n",
      "\n",
      "In this problem we will be using a [gene expression](http://en.wikipedia.org/wiki/Gene_expression) data set obtained from a [microarray](http://en.wikipedia.org/wiki/DNA_microarray) experiement [Read more about the specific experiment here](http://www.ncbi.nlm.nih.gov/geo/query/acc.cgi?acc=GSE5859).  There are two data sets we will use:  \n",
      "\n",
      "1. The gene expression intensities where the rows represent the features on the microarray (e.g. genes) and the columsns represent the different microarray samples.  \n",
      "\n",
      "2. A table that contains the information about each of the samples (columns in the gene expression data set) such as the sex, the age, the treatment status, the date the samples were processed.  Each row represents one sample. "
     ]
    },
    {
     "cell_type": "markdown",
     "metadata": {},
     "source": [
      "#### Problem 1(a) \n",
      "Read in the two files from Github: [exprs_GSE5859.csv](https://github.com/cs109/2014_data/blob/master/exprs_GSE5859.csv) and [sampleinfo_GSE5859.csv](https://github.com/cs109/2014_data/blob/master/sampleinfo_GSE5859.csv) as pandas DataFrames called `exprs` and `sampleinfo`. Use the gene names as the index of the `exprs` DataFrame."
     ]
    },
    {
     "cell_type": "code",
     "collapsed": false,
     "input": [
      "#your code here\n",
      "\n",
      "exprs = pd.read_csv(\"https://raw.githubusercontent.com/cs109/2014_data/master/exprs_GSE5859.csv\", index_col=0)\n",
      "sampleinfo = pd.read_csv(\"https://raw.githubusercontent.com/cs109/2014_data/master/sampleinfo_GSE5859.csv\")"
     ],
     "language": "python",
     "metadata": {},
     "outputs": [],
     "prompt_number": 165
    },
    {
     "cell_type": "code",
     "collapsed": false,
     "input": [
      "corrList = list(sampleinfo.filename)\n",
      "exprs = exprs[corrList]\n",
      "(exprs.columns == sampleinfo.filename).all()"
     ],
     "language": "python",
     "metadata": {},
     "outputs": [
      {
       "metadata": {},
       "output_type": "pyout",
       "prompt_number": 166,
       "text": [
        "True"
       ]
      }
     ],
     "prompt_number": 166
    },
    {
     "cell_type": "markdown",
     "metadata": {},
     "source": [
      "Make sure the order of the columns in the gene expression DataFrame match the order of file names in the sample annotation DataFrame. If the order of the columns the `exprs` DataFrame do not match the order of the file names in the `sampleinfo` DataFrame, reorder the columns in the `exprs` DataFrame. \n",
      "\n",
      "**Note**: The column names of the gene expression DataFrame are the filenames of the orignal files from which these data were obtained.  \n",
      "\n",
      "**Hint**: The method `list.index(x)` [[read here](https://docs.python.org/2/tutorial/datastructures.html)] can be used to return the index in the list of the first item whose value is x. It is an error if there is no such item. To check if the order of the columns in `exprs` matches the order of the rows in `sampleinfo`, you can check using the method `.all()` on a Boolean or list of Booleans: \n",
      "\n",
      "Example code: `(exprs.columns == sampleinfo.filename).all()`"
     ]
    },
    {
     "cell_type": "code",
     "collapsed": false,
     "input": [
      "#your code here\n",
      "exprs.head()"
     ],
     "language": "python",
     "metadata": {},
     "outputs": [
      {
       "html": [
        "<div style=\"max-height:1000px;max-width:1500px;overflow:auto;\">\n",
        "<table border=\"1\" class=\"dataframe\">\n",
        "  <thead>\n",
        "    <tr style=\"text-align: right;\">\n",
        "      <th></th>\n",
        "      <th>GSM25349.CEL.gz</th>\n",
        "      <th>GSM25350.CEL.gz</th>\n",
        "      <th>GSM25356.CEL.gz</th>\n",
        "      <th>GSM25357.CEL.gz</th>\n",
        "      <th>GSM25358.CEL.gz</th>\n",
        "      <th>GSM25359.CEL.gz</th>\n",
        "      <th>GSM25360.CEL.gz</th>\n",
        "      <th>GSM25361.CEL.gz</th>\n",
        "      <th>GSM25377.CEL.gz</th>\n",
        "      <th>GSM25378.CEL.gz</th>\n",
        "      <th>...</th>\n",
        "      <th>GSM136719.CEL.gz</th>\n",
        "      <th>GSM136720.CEL.gz</th>\n",
        "      <th>GSM136721.CEL.gz</th>\n",
        "      <th>GSM136722.CEL.gz</th>\n",
        "      <th>GSM136723.CEL.gz</th>\n",
        "      <th>GSM136724.CEL.gz</th>\n",
        "      <th>GSM136725.CEL.gz</th>\n",
        "      <th>GSM136726.CEL.gz</th>\n",
        "      <th>GSM136727.CEL.gz</th>\n",
        "      <th>GSM136729.CEL.gz</th>\n",
        "    </tr>\n",
        "  </thead>\n",
        "  <tbody>\n",
        "    <tr>\n",
        "      <th>1007_s_at</th>\n",
        "      <td> 6.627014</td>\n",
        "      <td> 6.249807</td>\n",
        "      <td> 5.934128</td>\n",
        "      <td> 6.145268</td>\n",
        "      <td> 6.091270</td>\n",
        "      <td> 6.041186</td>\n",
        "      <td> 6.050375</td>\n",
        "      <td> 6.063847</td>\n",
        "      <td> 6.226106</td>\n",
        "      <td> 6.358282</td>\n",
        "      <td>...</td>\n",
        "      <td> 6.466445</td>\n",
        "      <td> 6.533592</td>\n",
        "      <td> 6.631492</td>\n",
        "      <td> 6.513362</td>\n",
        "      <td> 6.440706</td>\n",
        "      <td> 6.704324</td>\n",
        "      <td> 6.488579</td>\n",
        "      <td> 6.809481</td>\n",
        "      <td> 6.133068</td>\n",
        "      <td> 6.155473</td>\n",
        "    </tr>\n",
        "    <tr>\n",
        "      <th>1053_at</th>\n",
        "      <td> 6.939184</td>\n",
        "      <td> 6.818038</td>\n",
        "      <td> 7.047962</td>\n",
        "      <td> 7.422477</td>\n",
        "      <td> 7.272361</td>\n",
        "      <td> 7.128216</td>\n",
        "      <td> 6.750719</td>\n",
        "      <td> 6.836287</td>\n",
        "      <td> 6.738022</td>\n",
        "      <td> 7.367895</td>\n",
        "      <td>...</td>\n",
        "      <td> 7.032885</td>\n",
        "      <td> 7.156344</td>\n",
        "      <td> 7.018025</td>\n",
        "      <td> 6.973322</td>\n",
        "      <td> 6.884738</td>\n",
        "      <td> 7.120898</td>\n",
        "      <td> 7.517410</td>\n",
        "      <td> 7.200596</td>\n",
        "      <td> 7.280781</td>\n",
        "      <td> 7.111583</td>\n",
        "    </tr>\n",
        "    <tr>\n",
        "      <th>117_at</th>\n",
        "      <td> 5.113570</td>\n",
        "      <td> 5.074096</td>\n",
        "      <td> 5.371201</td>\n",
        "      <td> 5.266550</td>\n",
        "      <td> 5.342047</td>\n",
        "      <td> 5.063876</td>\n",
        "      <td> 5.315898</td>\n",
        "      <td> 5.483652</td>\n",
        "      <td> 6.689444</td>\n",
        "      <td> 6.482782</td>\n",
        "      <td>...</td>\n",
        "      <td> 5.661112</td>\n",
        "      <td> 5.127260</td>\n",
        "      <td> 5.151840</td>\n",
        "      <td> 5.505602</td>\n",
        "      <td> 5.687689</td>\n",
        "      <td> 4.942651</td>\n",
        "      <td> 5.247190</td>\n",
        "      <td> 5.237239</td>\n",
        "      <td> 5.401876</td>\n",
        "      <td> 5.302628</td>\n",
        "    </tr>\n",
        "    <tr>\n",
        "      <th>121_at</th>\n",
        "      <td> 7.833862</td>\n",
        "      <td> 7.780682</td>\n",
        "      <td> 7.458197</td>\n",
        "      <td> 7.655948</td>\n",
        "      <td> 7.546555</td>\n",
        "      <td> 7.072670</td>\n",
        "      <td> 7.092984</td>\n",
        "      <td> 6.954225</td>\n",
        "      <td> 7.489785</td>\n",
        "      <td> 7.388539</td>\n",
        "      <td>...</td>\n",
        "      <td> 7.769734</td>\n",
        "      <td> 7.815864</td>\n",
        "      <td> 7.683279</td>\n",
        "      <td> 7.883231</td>\n",
        "      <td> 7.913621</td>\n",
        "      <td> 7.834196</td>\n",
        "      <td> 7.331864</td>\n",
        "      <td> 7.357102</td>\n",
        "      <td> 7.607461</td>\n",
        "      <td> 7.456453</td>\n",
        "    </tr>\n",
        "    <tr>\n",
        "      <th>1255_g_at</th>\n",
        "      <td> 3.152269</td>\n",
        "      <td> 3.111747</td>\n",
        "      <td> 3.018932</td>\n",
        "      <td> 3.154545</td>\n",
        "      <td> 3.107954</td>\n",
        "      <td> 3.224284</td>\n",
        "      <td> 3.114241</td>\n",
        "      <td> 3.044975</td>\n",
        "      <td> 3.304038</td>\n",
        "      <td> 2.887919</td>\n",
        "      <td>...</td>\n",
        "      <td> 3.257484</td>\n",
        "      <td> 3.339234</td>\n",
        "      <td> 3.298384</td>\n",
        "      <td> 3.150654</td>\n",
        "      <td> 3.344501</td>\n",
        "      <td> 3.230285</td>\n",
        "      <td> 3.175846</td>\n",
        "      <td> 3.105092</td>\n",
        "      <td> 3.225123</td>\n",
        "      <td> 3.090149</td>\n",
        "    </tr>\n",
        "  </tbody>\n",
        "</table>\n",
        "<p>5 rows \u00d7 208 columns</p>\n",
        "</div>"
       ],
       "metadata": {},
       "output_type": "pyout",
       "prompt_number": 167,
       "text": [
        "           GSM25349.CEL.gz  GSM25350.CEL.gz  GSM25356.CEL.gz  GSM25357.CEL.gz  \\\n",
        "1007_s_at         6.627014         6.249807         5.934128         6.145268   \n",
        "1053_at           6.939184         6.818038         7.047962         7.422477   \n",
        "117_at            5.113570         5.074096         5.371201         5.266550   \n",
        "121_at            7.833862         7.780682         7.458197         7.655948   \n",
        "1255_g_at         3.152269         3.111747         3.018932         3.154545   \n",
        "\n",
        "           GSM25358.CEL.gz  GSM25359.CEL.gz  GSM25360.CEL.gz  GSM25361.CEL.gz  \\\n",
        "1007_s_at         6.091270         6.041186         6.050375         6.063847   \n",
        "1053_at           7.272361         7.128216         6.750719         6.836287   \n",
        "117_at            5.342047         5.063876         5.315898         5.483652   \n",
        "121_at            7.546555         7.072670         7.092984         6.954225   \n",
        "1255_g_at         3.107954         3.224284         3.114241         3.044975   \n",
        "\n",
        "           GSM25377.CEL.gz  GSM25378.CEL.gz       ...         \\\n",
        "1007_s_at         6.226106         6.358282       ...          \n",
        "1053_at           6.738022         7.367895       ...          \n",
        "117_at            6.689444         6.482782       ...          \n",
        "121_at            7.489785         7.388539       ...          \n",
        "1255_g_at         3.304038         2.887919       ...          \n",
        "\n",
        "           GSM136719.CEL.gz  GSM136720.CEL.gz  GSM136721.CEL.gz  \\\n",
        "1007_s_at          6.466445          6.533592          6.631492   \n",
        "1053_at            7.032885          7.156344          7.018025   \n",
        "117_at             5.661112          5.127260          5.151840   \n",
        "121_at             7.769734          7.815864          7.683279   \n",
        "1255_g_at          3.257484          3.339234          3.298384   \n",
        "\n",
        "           GSM136722.CEL.gz  GSM136723.CEL.gz  GSM136724.CEL.gz  \\\n",
        "1007_s_at          6.513362          6.440706          6.704324   \n",
        "1053_at            6.973322          6.884738          7.120898   \n",
        "117_at             5.505602          5.687689          4.942651   \n",
        "121_at             7.883231          7.913621          7.834196   \n",
        "1255_g_at          3.150654          3.344501          3.230285   \n",
        "\n",
        "           GSM136725.CEL.gz  GSM136726.CEL.gz  GSM136727.CEL.gz  \\\n",
        "1007_s_at          6.488579          6.809481          6.133068   \n",
        "1053_at            7.517410          7.200596          7.280781   \n",
        "117_at             5.247190          5.237239          5.401876   \n",
        "121_at             7.331864          7.357102          7.607461   \n",
        "1255_g_at          3.175846          3.105092          3.225123   \n",
        "\n",
        "           GSM136729.CEL.gz  \n",
        "1007_s_at          6.155473  \n",
        "1053_at            7.111583  \n",
        "117_at             5.302628  \n",
        "121_at             7.456453  \n",
        "1255_g_at          3.090149  \n",
        "\n",
        "[5 rows x 208 columns]"
       ]
      }
     ],
     "prompt_number": 167
    },
    {
     "cell_type": "markdown",
     "metadata": {},
     "source": [
      "Show the head of the two tables: `exprs` and `sampleinfo`. "
     ]
    },
    {
     "cell_type": "code",
     "collapsed": false,
     "input": [
      "sampleinfo.head()"
     ],
     "language": "python",
     "metadata": {},
     "outputs": [
      {
       "html": [
        "<div style=\"max-height:1000px;max-width:1500px;overflow:auto;\">\n",
        "<table border=\"1\" class=\"dataframe\">\n",
        "  <thead>\n",
        "    <tr style=\"text-align: right;\">\n",
        "      <th></th>\n",
        "      <th>ethnicity</th>\n",
        "      <th>date</th>\n",
        "      <th>filename</th>\n",
        "      <th>sex</th>\n",
        "    </tr>\n",
        "  </thead>\n",
        "  <tbody>\n",
        "    <tr>\n",
        "      <th>0</th>\n",
        "      <td> CEU</td>\n",
        "      <td> 2003-02-04</td>\n",
        "      <td> GSM25349.CEL.gz</td>\n",
        "      <td> M</td>\n",
        "    </tr>\n",
        "    <tr>\n",
        "      <th>1</th>\n",
        "      <td> CEU</td>\n",
        "      <td> 2003-02-04</td>\n",
        "      <td> GSM25350.CEL.gz</td>\n",
        "      <td> M</td>\n",
        "    </tr>\n",
        "    <tr>\n",
        "      <th>2</th>\n",
        "      <td> CEU</td>\n",
        "      <td> 2002-12-17</td>\n",
        "      <td> GSM25356.CEL.gz</td>\n",
        "      <td> M</td>\n",
        "    </tr>\n",
        "    <tr>\n",
        "      <th>3</th>\n",
        "      <td> CEU</td>\n",
        "      <td> 2003-01-30</td>\n",
        "      <td> GSM25357.CEL.gz</td>\n",
        "      <td> M</td>\n",
        "    </tr>\n",
        "    <tr>\n",
        "      <th>4</th>\n",
        "      <td> CEU</td>\n",
        "      <td> 2003-01-03</td>\n",
        "      <td> GSM25358.CEL.gz</td>\n",
        "      <td> M</td>\n",
        "    </tr>\n",
        "  </tbody>\n",
        "</table>\n",
        "</div>"
       ],
       "metadata": {},
       "output_type": "pyout",
       "prompt_number": 168,
       "text": [
        "  ethnicity        date         filename sex\n",
        "0       CEU  2003-02-04  GSM25349.CEL.gz   M\n",
        "1       CEU  2003-02-04  GSM25350.CEL.gz   M\n",
        "2       CEU  2002-12-17  GSM25356.CEL.gz   M\n",
        "3       CEU  2003-01-30  GSM25357.CEL.gz   M\n",
        "4       CEU  2003-01-03  GSM25358.CEL.gz   M"
       ]
      }
     ],
     "prompt_number": 168
    },
    {
     "cell_type": "markdown",
     "metadata": {},
     "source": [
      "#### Problem 1(b)\n",
      "\n",
      "Extract the year and month as integers from the `sampleinfo` table. \n",
      "\n",
      "**Hint**: To convert a Series or a column of a pandas DataFrame that contains a date-like object, you can use the `to_datetime` function [[read here](http://pandas.pydata.org/pandas-docs/stable/timeseries.html)].  This will create a `DatetimeIndex` which can be used to extract the month and year for each row in the DataFrame. "
     ]
    },
    {
     "cell_type": "code",
     "collapsed": false,
     "input": [
      "sampleinfo['date'] = pd.DataFrame(pd.to_datetime(sampleinfo.date))"
     ],
     "language": "python",
     "metadata": {},
     "outputs": [],
     "prompt_number": 169
    },
    {
     "cell_type": "code",
     "collapsed": false,
     "input": [
      "sampleinfo['Year'] = pd.DatetimeIndex(sampleinfo['date']).year\n",
      "sampleinfo['Month'] = pd.DatetimeIndex(sampleinfo['date']).month"
     ],
     "language": "python",
     "metadata": {},
     "outputs": [],
     "prompt_number": 170
    },
    {
     "cell_type": "markdown",
     "metadata": {},
     "source": [
      "#### Problem 1(c)\n",
      "\n",
      "Convert the dates in the `date` column from the `sampleinfo` table into days since October 31, 2002. Add a column to the `sampleinfo` DataFrame titled `elapsedInDays` containing the days since October 31, 2002.  Show the head of the `sampleinfo` DataFrame which includes the new column.  \n",
      "\n",
      "**Hint**: Use the `datetime` module to create a new `datetime` object for the specific date October 31, 2002. Then, subtract the October 31, 2002 date from each date from the `date` column in the `sampleinfo` DataFrame. "
     ]
    },
    {
     "cell_type": "code",
     "collapsed": false,
     "input": [
      "theDay = pd.to_datetime('10-31-2002')\n",
      "sampleinfo['elapsedInDays'] = sampleinfo['date'] - theDay"
     ],
     "language": "python",
     "metadata": {},
     "outputs": [],
     "prompt_number": 171
    },
    {
     "cell_type": "markdown",
     "metadata": {},
     "source": [
      "#### Problem 1(d)\n",
      "\n",
      "Use exploratory analysis and the singular value decomposition (SVD) of the gene expression data matrix to determine if the date the samples were processed has large effect on the variability seen in the data or if it is just ethnicity (which is confounded with date). \n",
      "\n",
      "**Hint**: See the end of the [lecture from 9/23/2014 for help with SVD](http://nbviewer.ipython.org/github/cs109/2014/blob/master/lectures/lecture07/data_scraping_transcript.ipynb). \n",
      "\n",
      "First subset the the `sampleinfo` DataFrame to include only the CEU ethnicity.  Call this new subsetted DataFrame `sampleinfoCEU`.  Show the head of `sampleinfoCEU` DataFrame. "
     ]
    },
    {
     "cell_type": "code",
     "collapsed": false,
     "input": [
      "#your code here\n",
      "sampleinfoCEU = sampleinfo.ix[sampleinfo.ethnicity == \"CEU\"]\n",
      "sampleinfoCEU.head()\n"
     ],
     "language": "python",
     "metadata": {},
     "outputs": [
      {
       "html": [
        "<div style=\"max-height:1000px;max-width:1500px;overflow:auto;\">\n",
        "<table border=\"1\" class=\"dataframe\">\n",
        "  <thead>\n",
        "    <tr style=\"text-align: right;\">\n",
        "      <th></th>\n",
        "      <th>ethnicity</th>\n",
        "      <th>date</th>\n",
        "      <th>filename</th>\n",
        "      <th>sex</th>\n",
        "      <th>Year</th>\n",
        "      <th>Month</th>\n",
        "      <th>elapsedInDays</th>\n",
        "    </tr>\n",
        "  </thead>\n",
        "  <tbody>\n",
        "    <tr>\n",
        "      <th>0</th>\n",
        "      <td> CEU</td>\n",
        "      <td>2003-02-04</td>\n",
        "      <td> GSM25349.CEL.gz</td>\n",
        "      <td> M</td>\n",
        "      <td> 2003</td>\n",
        "      <td>  2</td>\n",
        "      <td>96 days</td>\n",
        "    </tr>\n",
        "    <tr>\n",
        "      <th>1</th>\n",
        "      <td> CEU</td>\n",
        "      <td>2003-02-04</td>\n",
        "      <td> GSM25350.CEL.gz</td>\n",
        "      <td> M</td>\n",
        "      <td> 2003</td>\n",
        "      <td>  2</td>\n",
        "      <td>96 days</td>\n",
        "    </tr>\n",
        "    <tr>\n",
        "      <th>2</th>\n",
        "      <td> CEU</td>\n",
        "      <td>2002-12-17</td>\n",
        "      <td> GSM25356.CEL.gz</td>\n",
        "      <td> M</td>\n",
        "      <td> 2002</td>\n",
        "      <td> 12</td>\n",
        "      <td>47 days</td>\n",
        "    </tr>\n",
        "    <tr>\n",
        "      <th>3</th>\n",
        "      <td> CEU</td>\n",
        "      <td>2003-01-30</td>\n",
        "      <td> GSM25357.CEL.gz</td>\n",
        "      <td> M</td>\n",
        "      <td> 2003</td>\n",
        "      <td>  1</td>\n",
        "      <td>91 days</td>\n",
        "    </tr>\n",
        "    <tr>\n",
        "      <th>4</th>\n",
        "      <td> CEU</td>\n",
        "      <td>2003-01-03</td>\n",
        "      <td> GSM25358.CEL.gz</td>\n",
        "      <td> M</td>\n",
        "      <td> 2003</td>\n",
        "      <td>  1</td>\n",
        "      <td>64 days</td>\n",
        "    </tr>\n",
        "  </tbody>\n",
        "</table>\n",
        "</div>"
       ],
       "metadata": {},
       "output_type": "pyout",
       "prompt_number": 172,
       "text": [
        "  ethnicity       date         filename sex  Year  Month  elapsedInDays\n",
        "0       CEU 2003-02-04  GSM25349.CEL.gz   M  2003      2        96 days\n",
        "1       CEU 2003-02-04  GSM25350.CEL.gz   M  2003      2        96 days\n",
        "2       CEU 2002-12-17  GSM25356.CEL.gz   M  2002     12        47 days\n",
        "3       CEU 2003-01-30  GSM25357.CEL.gz   M  2003      1        91 days\n",
        "4       CEU 2003-01-03  GSM25358.CEL.gz   M  2003      1        64 days"
       ]
      }
     ],
     "prompt_number": 172
    },
    {
     "cell_type": "markdown",
     "metadata": {},
     "source": [
      "Next, subset the `exprs` DataFrame to only include the samples with the CEU ethnicity. Name this new subsetted DataFrame `exprsCEU`. Show the head of the `exprsCEU` DataFrame. "
     ]
    },
    {
     "cell_type": "code",
     "collapsed": false,
     "input": [
      "exprsCEU = exprs[list(sampleinfoCEU.filename)]\n",
      "exprsCEU.head()"
     ],
     "language": "python",
     "metadata": {},
     "outputs": [
      {
       "html": [
        "<div style=\"max-height:1000px;max-width:1500px;overflow:auto;\">\n",
        "<table border=\"1\" class=\"dataframe\">\n",
        "  <thead>\n",
        "    <tr style=\"text-align: right;\">\n",
        "      <th></th>\n",
        "      <th>GSM25349.CEL.gz</th>\n",
        "      <th>GSM25350.CEL.gz</th>\n",
        "      <th>GSM25356.CEL.gz</th>\n",
        "      <th>GSM25357.CEL.gz</th>\n",
        "      <th>GSM25358.CEL.gz</th>\n",
        "      <th>GSM25359.CEL.gz</th>\n",
        "      <th>GSM25360.CEL.gz</th>\n",
        "      <th>GSM25361.CEL.gz</th>\n",
        "      <th>GSM25377.CEL.gz</th>\n",
        "      <th>GSM25378.CEL.gz</th>\n",
        "      <th>...</th>\n",
        "      <th>GSM48658.CEL.gz</th>\n",
        "      <th>GSM48660.CEL.gz</th>\n",
        "      <th>GSM48661.CEL.gz</th>\n",
        "      <th>GSM48662.CEL.gz</th>\n",
        "      <th>GSM48663.CEL.gz</th>\n",
        "      <th>GSM48664.CEL.gz</th>\n",
        "      <th>GSM48665.CEL.gz</th>\n",
        "      <th>GSM136725.CEL.gz</th>\n",
        "      <th>GSM136726.CEL.gz</th>\n",
        "      <th>GSM136727.CEL.gz</th>\n",
        "    </tr>\n",
        "  </thead>\n",
        "  <tbody>\n",
        "    <tr>\n",
        "      <th>1007_s_at</th>\n",
        "      <td> 6.627014</td>\n",
        "      <td> 6.249807</td>\n",
        "      <td> 5.934128</td>\n",
        "      <td> 6.145268</td>\n",
        "      <td> 6.091270</td>\n",
        "      <td> 6.041186</td>\n",
        "      <td> 6.050375</td>\n",
        "      <td> 6.063847</td>\n",
        "      <td> 6.226106</td>\n",
        "      <td> 6.358282</td>\n",
        "      <td>...</td>\n",
        "      <td> 6.501510</td>\n",
        "      <td> 6.558100</td>\n",
        "      <td> 6.618286</td>\n",
        "      <td> 6.869995</td>\n",
        "      <td> 5.981000</td>\n",
        "      <td> 6.403285</td>\n",
        "      <td> 6.248702</td>\n",
        "      <td> 6.488579</td>\n",
        "      <td> 6.809481</td>\n",
        "      <td> 6.133068</td>\n",
        "    </tr>\n",
        "    <tr>\n",
        "      <th>1053_at</th>\n",
        "      <td> 6.939184</td>\n",
        "      <td> 6.818038</td>\n",
        "      <td> 7.047962</td>\n",
        "      <td> 7.422477</td>\n",
        "      <td> 7.272361</td>\n",
        "      <td> 7.128216</td>\n",
        "      <td> 6.750719</td>\n",
        "      <td> 6.836287</td>\n",
        "      <td> 6.738022</td>\n",
        "      <td> 7.367895</td>\n",
        "      <td>...</td>\n",
        "      <td> 7.066686</td>\n",
        "      <td> 7.386702</td>\n",
        "      <td> 6.407958</td>\n",
        "      <td> 7.089180</td>\n",
        "      <td> 7.120923</td>\n",
        "      <td> 7.018998</td>\n",
        "      <td> 7.155419</td>\n",
        "      <td> 7.517410</td>\n",
        "      <td> 7.200596</td>\n",
        "      <td> 7.280781</td>\n",
        "    </tr>\n",
        "    <tr>\n",
        "      <th>117_at</th>\n",
        "      <td> 5.113570</td>\n",
        "      <td> 5.074096</td>\n",
        "      <td> 5.371201</td>\n",
        "      <td> 5.266550</td>\n",
        "      <td> 5.342047</td>\n",
        "      <td> 5.063876</td>\n",
        "      <td> 5.315898</td>\n",
        "      <td> 5.483652</td>\n",
        "      <td> 6.689444</td>\n",
        "      <td> 6.482782</td>\n",
        "      <td>...</td>\n",
        "      <td> 5.600514</td>\n",
        "      <td> 5.232676</td>\n",
        "      <td> 5.630720</td>\n",
        "      <td> 4.944748</td>\n",
        "      <td> 5.275577</td>\n",
        "      <td> 5.770358</td>\n",
        "      <td> 5.616842</td>\n",
        "      <td> 5.247190</td>\n",
        "      <td> 5.237239</td>\n",
        "      <td> 5.401876</td>\n",
        "    </tr>\n",
        "    <tr>\n",
        "      <th>121_at</th>\n",
        "      <td> 7.833862</td>\n",
        "      <td> 7.780682</td>\n",
        "      <td> 7.458197</td>\n",
        "      <td> 7.655948</td>\n",
        "      <td> 7.546555</td>\n",
        "      <td> 7.072670</td>\n",
        "      <td> 7.092984</td>\n",
        "      <td> 6.954225</td>\n",
        "      <td> 7.489785</td>\n",
        "      <td> 7.388539</td>\n",
        "      <td>...</td>\n",
        "      <td> 7.437535</td>\n",
        "      <td> 7.714650</td>\n",
        "      <td> 7.416252</td>\n",
        "      <td> 7.746448</td>\n",
        "      <td> 8.001434</td>\n",
        "      <td> 7.626723</td>\n",
        "      <td> 7.452299</td>\n",
        "      <td> 7.331864</td>\n",
        "      <td> 7.357102</td>\n",
        "      <td> 7.607461</td>\n",
        "    </tr>\n",
        "    <tr>\n",
        "      <th>1255_g_at</th>\n",
        "      <td> 3.152269</td>\n",
        "      <td> 3.111747</td>\n",
        "      <td> 3.018932</td>\n",
        "      <td> 3.154545</td>\n",
        "      <td> 3.107954</td>\n",
        "      <td> 3.224284</td>\n",
        "      <td> 3.114241</td>\n",
        "      <td> 3.044975</td>\n",
        "      <td> 3.304038</td>\n",
        "      <td> 2.887919</td>\n",
        "      <td>...</td>\n",
        "      <td> 3.009983</td>\n",
        "      <td> 3.151203</td>\n",
        "      <td> 3.199709</td>\n",
        "      <td> 3.159496</td>\n",
        "      <td> 3.149710</td>\n",
        "      <td> 3.242780</td>\n",
        "      <td> 3.433125</td>\n",
        "      <td> 3.175846</td>\n",
        "      <td> 3.105092</td>\n",
        "      <td> 3.225123</td>\n",
        "    </tr>\n",
        "  </tbody>\n",
        "</table>\n",
        "<p>5 rows \u00d7 102 columns</p>\n",
        "</div>"
       ],
       "metadata": {},
       "output_type": "pyout",
       "prompt_number": 173,
       "text": [
        "           GSM25349.CEL.gz  GSM25350.CEL.gz  GSM25356.CEL.gz  GSM25357.CEL.gz  \\\n",
        "1007_s_at         6.627014         6.249807         5.934128         6.145268   \n",
        "1053_at           6.939184         6.818038         7.047962         7.422477   \n",
        "117_at            5.113570         5.074096         5.371201         5.266550   \n",
        "121_at            7.833862         7.780682         7.458197         7.655948   \n",
        "1255_g_at         3.152269         3.111747         3.018932         3.154545   \n",
        "\n",
        "           GSM25358.CEL.gz  GSM25359.CEL.gz  GSM25360.CEL.gz  GSM25361.CEL.gz  \\\n",
        "1007_s_at         6.091270         6.041186         6.050375         6.063847   \n",
        "1053_at           7.272361         7.128216         6.750719         6.836287   \n",
        "117_at            5.342047         5.063876         5.315898         5.483652   \n",
        "121_at            7.546555         7.072670         7.092984         6.954225   \n",
        "1255_g_at         3.107954         3.224284         3.114241         3.044975   \n",
        "\n",
        "           GSM25377.CEL.gz  GSM25378.CEL.gz       ...         GSM48658.CEL.gz  \\\n",
        "1007_s_at         6.226106         6.358282       ...                6.501510   \n",
        "1053_at           6.738022         7.367895       ...                7.066686   \n",
        "117_at            6.689444         6.482782       ...                5.600514   \n",
        "121_at            7.489785         7.388539       ...                7.437535   \n",
        "1255_g_at         3.304038         2.887919       ...                3.009983   \n",
        "\n",
        "           GSM48660.CEL.gz  GSM48661.CEL.gz  GSM48662.CEL.gz  GSM48663.CEL.gz  \\\n",
        "1007_s_at         6.558100         6.618286         6.869995         5.981000   \n",
        "1053_at           7.386702         6.407958         7.089180         7.120923   \n",
        "117_at            5.232676         5.630720         4.944748         5.275577   \n",
        "121_at            7.714650         7.416252         7.746448         8.001434   \n",
        "1255_g_at         3.151203         3.199709         3.159496         3.149710   \n",
        "\n",
        "           GSM48664.CEL.gz  GSM48665.CEL.gz  GSM136725.CEL.gz  \\\n",
        "1007_s_at         6.403285         6.248702          6.488579   \n",
        "1053_at           7.018998         7.155419          7.517410   \n",
        "117_at            5.770358         5.616842          5.247190   \n",
        "121_at            7.626723         7.452299          7.331864   \n",
        "1255_g_at         3.242780         3.433125          3.175846   \n",
        "\n",
        "           GSM136726.CEL.gz  GSM136727.CEL.gz  \n",
        "1007_s_at          6.809481          6.133068  \n",
        "1053_at            7.200596          7.280781  \n",
        "117_at             5.237239          5.401876  \n",
        "121_at             7.357102          7.607461  \n",
        "1255_g_at          3.105092          3.225123  \n",
        "\n",
        "[5 rows x 102 columns]"
       ]
      }
     ],
     "prompt_number": 173
    },
    {
     "cell_type": "markdown",
     "metadata": {},
     "source": [
      "Check to make sure the order of the columns in the `exprsCEU` DataFrame matches the rows in the `sampleinfoCEU` DataFrame.  "
     ]
    },
    {
     "cell_type": "code",
     "collapsed": false,
     "input": [
      "(exprsCEU.columns == sampleinfoCEU.filename).all()"
     ],
     "language": "python",
     "metadata": {},
     "outputs": [
      {
       "metadata": {},
       "output_type": "pyout",
       "prompt_number": 174,
       "text": [
        "True"
       ]
      }
     ],
     "prompt_number": 174
    },
    {
     "cell_type": "markdown",
     "metadata": {},
     "source": [
      "Compute the average gene expression intensity in the `exprsCEU` DataFrame across all the samples. For each sample in the `exprsCEU` DataFrame, subtract the average gene expression intensity from each of the samples. Show the head of the mean normalized gene expression data.  "
     ]
    },
    {
     "cell_type": "code",
     "collapsed": false,
     "input": [
      "#### Calculate mean by row \n",
      "\n",
      "means = (pd.DataFrame(exprsCEU.mean(axis=1)))\n",
      "exprsCEUnorm = pd.DataFrame(exprsCEU.values-means.values, columns=exprsCEU.columns)\n",
      "exprsCEUnorm.head()\n",
      "#print means"
     ],
     "language": "python",
     "metadata": {},
     "outputs": [
      {
       "html": [
        "<div style=\"max-height:1000px;max-width:1500px;overflow:auto;\">\n",
        "<table border=\"1\" class=\"dataframe\">\n",
        "  <thead>\n",
        "    <tr style=\"text-align: right;\">\n",
        "      <th></th>\n",
        "      <th>GSM25349.CEL.gz</th>\n",
        "      <th>GSM25350.CEL.gz</th>\n",
        "      <th>GSM25356.CEL.gz</th>\n",
        "      <th>GSM25357.CEL.gz</th>\n",
        "      <th>GSM25358.CEL.gz</th>\n",
        "      <th>GSM25359.CEL.gz</th>\n",
        "      <th>GSM25360.CEL.gz</th>\n",
        "      <th>GSM25361.CEL.gz</th>\n",
        "      <th>GSM25377.CEL.gz</th>\n",
        "      <th>GSM25378.CEL.gz</th>\n",
        "      <th>...</th>\n",
        "      <th>GSM48658.CEL.gz</th>\n",
        "      <th>GSM48660.CEL.gz</th>\n",
        "      <th>GSM48661.CEL.gz</th>\n",
        "      <th>GSM48662.CEL.gz</th>\n",
        "      <th>GSM48663.CEL.gz</th>\n",
        "      <th>GSM48664.CEL.gz</th>\n",
        "      <th>GSM48665.CEL.gz</th>\n",
        "      <th>GSM136725.CEL.gz</th>\n",
        "      <th>GSM136726.CEL.gz</th>\n",
        "      <th>GSM136727.CEL.gz</th>\n",
        "    </tr>\n",
        "  </thead>\n",
        "  <tbody>\n",
        "    <tr>\n",
        "      <th>0</th>\n",
        "      <td> 0.365059</td>\n",
        "      <td>-0.012149</td>\n",
        "      <td>-0.327827</td>\n",
        "      <td>-0.116687</td>\n",
        "      <td>-0.170685</td>\n",
        "      <td>-0.220769</td>\n",
        "      <td>-0.211580</td>\n",
        "      <td>-0.198109</td>\n",
        "      <td>-0.035849</td>\n",
        "      <td> 0.096327</td>\n",
        "      <td>...</td>\n",
        "      <td> 0.239554</td>\n",
        "      <td> 0.296144</td>\n",
        "      <td> 0.356331</td>\n",
        "      <td> 0.608040</td>\n",
        "      <td>-0.280956</td>\n",
        "      <td> 0.141330</td>\n",
        "      <td>-0.013254</td>\n",
        "      <td> 0.226624</td>\n",
        "      <td> 0.547526</td>\n",
        "      <td>-0.128887</td>\n",
        "    </tr>\n",
        "    <tr>\n",
        "      <th>1</th>\n",
        "      <td>-0.136032</td>\n",
        "      <td>-0.257178</td>\n",
        "      <td>-0.027254</td>\n",
        "      <td> 0.347260</td>\n",
        "      <td> 0.197144</td>\n",
        "      <td> 0.053000</td>\n",
        "      <td>-0.324497</td>\n",
        "      <td>-0.238930</td>\n",
        "      <td>-0.337195</td>\n",
        "      <td> 0.292678</td>\n",
        "      <td>...</td>\n",
        "      <td>-0.008531</td>\n",
        "      <td> 0.311485</td>\n",
        "      <td>-0.667259</td>\n",
        "      <td> 0.013964</td>\n",
        "      <td> 0.045706</td>\n",
        "      <td>-0.056219</td>\n",
        "      <td> 0.080203</td>\n",
        "      <td> 0.442193</td>\n",
        "      <td> 0.125379</td>\n",
        "      <td> 0.205564</td>\n",
        "    </tr>\n",
        "    <tr>\n",
        "      <th>2</th>\n",
        "      <td>-0.490556</td>\n",
        "      <td>-0.530031</td>\n",
        "      <td>-0.232926</td>\n",
        "      <td>-0.337577</td>\n",
        "      <td>-0.262080</td>\n",
        "      <td>-0.540250</td>\n",
        "      <td>-0.288228</td>\n",
        "      <td>-0.120475</td>\n",
        "      <td> 1.085317</td>\n",
        "      <td> 0.878655</td>\n",
        "      <td>...</td>\n",
        "      <td>-0.003613</td>\n",
        "      <td>-0.371451</td>\n",
        "      <td> 0.026594</td>\n",
        "      <td>-0.659379</td>\n",
        "      <td>-0.328549</td>\n",
        "      <td> 0.166231</td>\n",
        "      <td> 0.012716</td>\n",
        "      <td>-0.356936</td>\n",
        "      <td>-0.366887</td>\n",
        "      <td>-0.202251</td>\n",
        "    </tr>\n",
        "    <tr>\n",
        "      <th>3</th>\n",
        "      <td> 0.418026</td>\n",
        "      <td> 0.364847</td>\n",
        "      <td> 0.042362</td>\n",
        "      <td> 0.240113</td>\n",
        "      <td> 0.130720</td>\n",
        "      <td>-0.343165</td>\n",
        "      <td>-0.322852</td>\n",
        "      <td>-0.461611</td>\n",
        "      <td> 0.073949</td>\n",
        "      <td>-0.027296</td>\n",
        "      <td>...</td>\n",
        "      <td> 0.021700</td>\n",
        "      <td> 0.298814</td>\n",
        "      <td> 0.000417</td>\n",
        "      <td> 0.330612</td>\n",
        "      <td> 0.585598</td>\n",
        "      <td> 0.210887</td>\n",
        "      <td> 0.036463</td>\n",
        "      <td>-0.083972</td>\n",
        "      <td>-0.058733</td>\n",
        "      <td> 0.191626</td>\n",
        "    </tr>\n",
        "    <tr>\n",
        "      <th>4</th>\n",
        "      <td> 0.018335</td>\n",
        "      <td>-0.022187</td>\n",
        "      <td>-0.115002</td>\n",
        "      <td> 0.020611</td>\n",
        "      <td>-0.025980</td>\n",
        "      <td> 0.090351</td>\n",
        "      <td>-0.019693</td>\n",
        "      <td>-0.088959</td>\n",
        "      <td> 0.170104</td>\n",
        "      <td>-0.246015</td>\n",
        "      <td>...</td>\n",
        "      <td>-0.123951</td>\n",
        "      <td> 0.017269</td>\n",
        "      <td> 0.065775</td>\n",
        "      <td> 0.025562</td>\n",
        "      <td> 0.015776</td>\n",
        "      <td> 0.108846</td>\n",
        "      <td> 0.299192</td>\n",
        "      <td> 0.041912</td>\n",
        "      <td>-0.028842</td>\n",
        "      <td> 0.091189</td>\n",
        "    </tr>\n",
        "  </tbody>\n",
        "</table>\n",
        "<p>5 rows \u00d7 102 columns</p>\n",
        "</div>"
       ],
       "metadata": {},
       "output_type": "pyout",
       "prompt_number": 175,
       "text": [
        "   GSM25349.CEL.gz  GSM25350.CEL.gz  GSM25356.CEL.gz  GSM25357.CEL.gz  \\\n",
        "0         0.365059        -0.012149        -0.327827        -0.116687   \n",
        "1        -0.136032        -0.257178        -0.027254         0.347260   \n",
        "2        -0.490556        -0.530031        -0.232926        -0.337577   \n",
        "3         0.418026         0.364847         0.042362         0.240113   \n",
        "4         0.018335        -0.022187        -0.115002         0.020611   \n",
        "\n",
        "   GSM25358.CEL.gz  GSM25359.CEL.gz  GSM25360.CEL.gz  GSM25361.CEL.gz  \\\n",
        "0        -0.170685        -0.220769        -0.211580        -0.198109   \n",
        "1         0.197144         0.053000        -0.324497        -0.238930   \n",
        "2        -0.262080        -0.540250        -0.288228        -0.120475   \n",
        "3         0.130720        -0.343165        -0.322852        -0.461611   \n",
        "4        -0.025980         0.090351        -0.019693        -0.088959   \n",
        "\n",
        "   GSM25377.CEL.gz  GSM25378.CEL.gz       ...         GSM48658.CEL.gz  \\\n",
        "0        -0.035849         0.096327       ...                0.239554   \n",
        "1        -0.337195         0.292678       ...               -0.008531   \n",
        "2         1.085317         0.878655       ...               -0.003613   \n",
        "3         0.073949        -0.027296       ...                0.021700   \n",
        "4         0.170104        -0.246015       ...               -0.123951   \n",
        "\n",
        "   GSM48660.CEL.gz  GSM48661.CEL.gz  GSM48662.CEL.gz  GSM48663.CEL.gz  \\\n",
        "0         0.296144         0.356331         0.608040        -0.280956   \n",
        "1         0.311485        -0.667259         0.013964         0.045706   \n",
        "2        -0.371451         0.026594        -0.659379        -0.328549   \n",
        "3         0.298814         0.000417         0.330612         0.585598   \n",
        "4         0.017269         0.065775         0.025562         0.015776   \n",
        "\n",
        "   GSM48664.CEL.gz  GSM48665.CEL.gz  GSM136725.CEL.gz  GSM136726.CEL.gz  \\\n",
        "0         0.141330        -0.013254          0.226624          0.547526   \n",
        "1        -0.056219         0.080203          0.442193          0.125379   \n",
        "2         0.166231         0.012716         -0.356936         -0.366887   \n",
        "3         0.210887         0.036463         -0.083972         -0.058733   \n",
        "4         0.108846         0.299192          0.041912         -0.028842   \n",
        "\n",
        "   GSM136727.CEL.gz  \n",
        "0         -0.128887  \n",
        "1          0.205564  \n",
        "2         -0.202251  \n",
        "3          0.191626  \n",
        "4          0.091189  \n",
        "\n",
        "[5 rows x 102 columns]"
       ]
      }
     ],
     "prompt_number": 175
    },
    {
     "cell_type": "markdown",
     "metadata": {},
     "source": [
      "Using this mean normalized gene expression data, compute the projection to the first Principal Component (PC1).  \n",
      "\n",
      "**Hint**: Use the `numpy.linalg.svd()` function in the `numpy.linalg` module (or the `scipy.linalg.svd()` function in the `scipy.linalg` module) to apply an [singular value decomposition](http://en.wikipedia.org/wiki/Singular_value_decomposition) to a matrix.  "
     ]
    },
    {
     "cell_type": "code",
     "collapsed": false,
     "input": [
      "from scipy import linalg"
     ],
     "language": "python",
     "metadata": {},
     "outputs": [],
     "prompt_number": 176
    },
    {
     "cell_type": "code",
     "collapsed": false,
     "input": [
      "matrix = pd.DataFrame(exprsCEUnorm)\n",
      "lng = len(matrix.columns)\n",
      "wid = len(matrix)\n",
      "np.shape(matrix)"
     ],
     "language": "python",
     "metadata": {},
     "outputs": [
      {
       "metadata": {},
       "output_type": "pyout",
       "prompt_number": 177,
       "text": [
        "(8793, 102)"
       ]
      }
     ],
     "prompt_number": 177
    },
    {
     "cell_type": "code",
     "collapsed": false,
     "input": [
      "## compute SVD\n",
      "U,s,Vh = sp.linalg.svd(matrix)"
     ],
     "language": "python",
     "metadata": {},
     "outputs": [],
     "prompt_number": 178
    },
    {
     "cell_type": "markdown",
     "metadata": {},
     "source": [
      "Create a histogram using the values from PC1.  Use a bin size of 25.  "
     ]
    },
    {
     "cell_type": "code",
     "collapsed": false,
     "input": [
      "V = Vh\n",
      "pc1 = V[0] # I think this is PC1 -- the first row of V\n",
      "\n",
      "#set figure and axis\n",
      "fig = plt.figure(figsize=(8, 6))\n",
      "\n",
      "#make subplot\n",
      "ax = Subplot(fig, 111)\n",
      "fig.add_subplot(ax)\n",
      "\n",
      "#plot\n",
      "ax.hist(pc1, bins = 25, color = \"0.75\") # plot the bins\n",
      "\n",
      "plt.xlabel(\"PC1\") # xlabel\n",
      "plt.ylabel(\"Frequency\") # ylabel\n",
      "plt.title(\"Histogram of PC1\") # title\n",
      "\n",
      "#do not display top and right axes\n",
      "ax.axis[\"right\"].set_visible(False)\n",
      "ax.axis[\"top\"].set_visible(False)\n",
      "\n",
      "plt.show()\n",
      "print \"This histogram is somewhat bimodal\""
     ],
     "language": "python",
     "metadata": {},
     "outputs": [
      {
       "metadata": {},
       "output_type": "display_data",
       "png": "[encoded data removed]",
       "text": [
        "<matplotlib.figure.Figure at 0x1149de5d0>"
       ]
      },
      {
       "output_type": "stream",
       "stream": "stdout",
       "text": [
        "This histogram is somewhat bimodal\n"
       ]
      }
     ],
     "prompt_number": 179
    },
    {
     "cell_type": "markdown",
     "metadata": {},
     "source": [
      "Create a scatter plot with the days since October 31, 2002 on the x-axis and PC1 on the y-axis."
     ]
    },
    {
     "cell_type": "code",
     "collapsed": false,
     "input": [
      "ff = sampleinfoCEU.elapsedInDays\n",
      "days = ff / np.timedelta64(1, 'D')"
     ],
     "language": "python",
     "metadata": {},
     "outputs": [],
     "prompt_number": 180
    },
    {
     "cell_type": "code",
     "collapsed": false,
     "input": [
      "#set figure and axis\n",
      "fig = plt.figure(figsize=(6, 4))\n",
      "ax = Subplot(fig, 111)\n",
      "fig.add_subplot(ax)\n",
      "\n",
      "#plot\n",
      "ax.scatter(days, pc1, s=50, facecolor='0', alpha = 0.5, lw = 0) \n",
      "plt.xlabel(\"Days since Oct 31, 2002\") # xlabel\n",
      "plt.ylabel(\"PC1\") # ylabel\n",
      "plt.title(\"Days since Oct 31, 2002 vs PC1\") # title\n",
      "\n",
      "#do not display top and right axes\n",
      "ax.axis[\"right\"].set_visible(False)\n",
      "ax.axis[\"top\"].set_visible(False)\n",
      "plt.show()"
     ],
     "language": "python",
     "metadata": {},
     "outputs": [
      {
       "metadata": {},
       "output_type": "display_data",
       "png": "[encoded data removed]",
       "text": [
        "<matplotlib.figure.Figure at 0x10b8a81d0>"
       ]
      }
     ],
     "prompt_number": 181
    },
    {
     "cell_type": "markdown",
     "metadata": {},
     "source": [
      "Around what day do you notice a difference in the way the samples were processed?\n"
     ]
    },
    {
     "cell_type": "code",
     "collapsed": false,
     "input": [
      "#set figure and axis\n",
      "fig = plt.figure(figsize=(6, 4))\n",
      "ax = Subplot(fig, 111)\n",
      "fig.add_subplot(ax)\n",
      "\n",
      "#plot\n",
      "ax.scatter(days, pc1, s=50, facecolor='0', alpha = 0.5, lw = 0)\n",
      "plt.xlabel(\"Days since Oct 31, 2002\") # xlabel\n",
      "plt.ylabel(\"PC1\") # ylabel\n",
      "plt.title(\"Days since Oct 31, 2002 vs PC1\") # title\n",
      "plt.vlines(103, -0.3, 0.3, alpha = 0.2, label=\"Day 103\")\n",
      "plt.ylim(-0.3, 0.3)\n",
      "plt.xlim(0, 300)\n",
      "\n",
      "#do not display top and right axes\n",
      "ax.axis[\"right\"].set_visible(False)\n",
      "ax.axis[\"top\"].set_visible(False)\n",
      "plt.legend(loc = 4)\n",
      "plt.show()"
     ],
     "language": "python",
     "metadata": {},
     "outputs": [
      {
       "metadata": {},
       "output_type": "display_data",
       "png": "[encoded data removed]",
       "text": [
        "<matplotlib.figure.Figure at 0x114747a90>"
       ]
      }
     ],
     "prompt_number": 182
    },
    {
     "cell_type": "markdown",
     "metadata": {},
     "source": [
      "Answer:\n",
      "\n",
      "\n",
      "---\n",
      "Answer: I detect a difference before day 400.  I zoomed in on the graph to see it better. I placed a vertical line in the graph above that shows a fairly distict break at day 103. It looks like the samples processed after day day 103 appear to be in a different group."
     ]
    },
    {
     "cell_type": "markdown",
     "metadata": {},
     "source": [
      "## Discussion for Problem 1\n",
      "\n",
      "*Write a brief discussion of your conclusions to the questions and tasks above in 100 words or less.*\n",
      "\n",
      "---\n",
      "\n",
      "After looking closely at the data, I think that the date that the samples were processed affects their outcome (or at least, their PC1).  This suggests that the study might have a flaw. "
     ]
    },
    {
     "cell_type": "markdown",
     "metadata": {},
     "source": [
      "## Problem 2: Is there a pollster bias in presidential election polls?"
     ]
    },
    {
     "cell_type": "markdown",
     "metadata": {},
     "source": [
      "#### Problem 2(a)\n",
      "\n",
      "The [HuffPost Pollster](http://elections.huffingtonpost.com/pollster) contains many political polls. You can access these polls from individual races as a CSV but you can also access polls through the [HuffPost Pollster API](http://elections.huffingtonpost.com/pollster/api) to access the data.  \n",
      "\n",
      "Read in the polls from the [2012 Presidential Election: Barack Obama vs Mitt Romney](http://elections.huffingtonpost.com/pollster/2012-general-election-romney-vs-obama) into a pandas DataFrame called `election`. For this problem, you may read in the polls for this race directly using [the CSV file](http://elections.huffingtonpost.com/pollster/2012-general-election-romney-vs-obama.csv) available from the HuffPost Pollster page."
     ]
    },
    {
     "cell_type": "code",
     "collapsed": false,
     "input": [
      "#your code here\n",
      "election = pd.read_csv(\"http://elections.huffingtonpost.com/pollster/2012-general-election-romney-vs-obama.csv\")"
     ],
     "language": "python",
     "metadata": {},
     "outputs": [],
     "prompt_number": 183
    },
    {
     "cell_type": "markdown",
     "metadata": {},
     "source": [
      "Show the head of the `election` DataFrame. "
     ]
    },
    {
     "cell_type": "code",
     "collapsed": false,
     "input": [
      "#your code here\n",
      "election.head()"
     ],
     "language": "python",
     "metadata": {},
     "outputs": [
      {
       "html": [
        "<div style=\"max-height:1000px;max-width:1500px;overflow:auto;\">\n",
        "<table border=\"1\" class=\"dataframe\">\n",
        "  <thead>\n",
        "    <tr style=\"text-align: right;\">\n",
        "      <th></th>\n",
        "      <th>Pollster</th>\n",
        "      <th>Start Date</th>\n",
        "      <th>End Date</th>\n",
        "      <th>Entry Date/Time (ET)</th>\n",
        "      <th>Number of Observations</th>\n",
        "      <th>Population</th>\n",
        "      <th>Mode</th>\n",
        "      <th>Obama</th>\n",
        "      <th>Romney</th>\n",
        "      <th>Undecided</th>\n",
        "      <th>Pollster URL</th>\n",
        "      <th>Source URL</th>\n",
        "      <th>Partisan</th>\n",
        "      <th>Affiliation</th>\n",
        "    </tr>\n",
        "  </thead>\n",
        "  <tbody>\n",
        "    <tr>\n",
        "      <th>0</th>\n",
        "      <td> Politico/GWU/Battleground</td>\n",
        "      <td> 2012-11-04</td>\n",
        "      <td> 2012-11-05</td>\n",
        "      <td> 2012-11-06 08:40:26</td>\n",
        "      <td> 1000</td>\n",
        "      <td> Likely Voters</td>\n",
        "      <td>      Live Phone</td>\n",
        "      <td> 47</td>\n",
        "      <td> 47</td>\n",
        "      <td>  6</td>\n",
        "      <td> http://elections.huffingtonpost.com/pollster/p...</td>\n",
        "      <td> http://www.politico.com/news/stories/1112/8338...</td>\n",
        "      <td> Nonpartisan</td>\n",
        "      <td> None</td>\n",
        "    </tr>\n",
        "    <tr>\n",
        "      <th>1</th>\n",
        "      <td>                UPI/CVOTER</td>\n",
        "      <td> 2012-11-03</td>\n",
        "      <td> 2012-11-05</td>\n",
        "      <td> 2012-11-05 18:30:15</td>\n",
        "      <td> 3000</td>\n",
        "      <td> Likely Voters</td>\n",
        "      <td>      Live Phone</td>\n",
        "      <td> 49</td>\n",
        "      <td> 48</td>\n",
        "      <td>NaN</td>\n",
        "      <td> http://elections.huffingtonpost.com/pollster/p...</td>\n",
        "      <td>                                               NaN</td>\n",
        "      <td> Nonpartisan</td>\n",
        "      <td> None</td>\n",
        "    </tr>\n",
        "    <tr>\n",
        "      <th>2</th>\n",
        "      <td>          Gravis Marketing</td>\n",
        "      <td> 2012-11-03</td>\n",
        "      <td> 2012-11-05</td>\n",
        "      <td> 2012-11-06 09:22:02</td>\n",
        "      <td>  872</td>\n",
        "      <td> Likely Voters</td>\n",
        "      <td> Automated Phone</td>\n",
        "      <td> 48</td>\n",
        "      <td> 48</td>\n",
        "      <td>  4</td>\n",
        "      <td> http://elections.huffingtonpost.com/pollster/p...</td>\n",
        "      <td> http://www.gravispolls.com/2012/11/gravis-mark...</td>\n",
        "      <td> Nonpartisan</td>\n",
        "      <td> None</td>\n",
        "    </tr>\n",
        "    <tr>\n",
        "      <th>3</th>\n",
        "      <td>      JZ Analytics/Newsmax</td>\n",
        "      <td> 2012-11-03</td>\n",
        "      <td> 2012-11-05</td>\n",
        "      <td> 2012-11-06 07:38:41</td>\n",
        "      <td> 1041</td>\n",
        "      <td> Likely Voters</td>\n",
        "      <td>        Internet</td>\n",
        "      <td> 47</td>\n",
        "      <td> 47</td>\n",
        "      <td>  6</td>\n",
        "      <td> http://elections.huffingtonpost.com/pollster/p...</td>\n",
        "      <td>                       http://www.jzanalytics.com/</td>\n",
        "      <td>     Sponsor</td>\n",
        "      <td>  Rep</td>\n",
        "    </tr>\n",
        "    <tr>\n",
        "      <th>4</th>\n",
        "      <td>                 Rasmussen</td>\n",
        "      <td> 2012-11-03</td>\n",
        "      <td> 2012-11-05</td>\n",
        "      <td> 2012-11-06 08:47:50</td>\n",
        "      <td> 1500</td>\n",
        "      <td> Likely Voters</td>\n",
        "      <td> Automated Phone</td>\n",
        "      <td> 48</td>\n",
        "      <td> 49</td>\n",
        "      <td>NaN</td>\n",
        "      <td> http://elections.huffingtonpost.com/pollster/p...</td>\n",
        "      <td> http://www.rasmussenreports.com/public_content...</td>\n",
        "      <td> Nonpartisan</td>\n",
        "      <td> None</td>\n",
        "    </tr>\n",
        "  </tbody>\n",
        "</table>\n",
        "</div>"
       ],
       "metadata": {},
       "output_type": "pyout",
       "prompt_number": 184,
       "text": [
        "                    Pollster  Start Date    End Date Entry Date/Time (ET)  \\\n",
        "0  Politico/GWU/Battleground  2012-11-04  2012-11-05  2012-11-06 08:40:26   \n",
        "1                 UPI/CVOTER  2012-11-03  2012-11-05  2012-11-05 18:30:15   \n",
        "2           Gravis Marketing  2012-11-03  2012-11-05  2012-11-06 09:22:02   \n",
        "3       JZ Analytics/Newsmax  2012-11-03  2012-11-05  2012-11-06 07:38:41   \n",
        "4                  Rasmussen  2012-11-03  2012-11-05  2012-11-06 08:47:50   \n",
        "\n",
        "   Number of Observations     Population             Mode  Obama  Romney  \\\n",
        "0                    1000  Likely Voters       Live Phone     47      47   \n",
        "1                    3000  Likely Voters       Live Phone     49      48   \n",
        "2                     872  Likely Voters  Automated Phone     48      48   \n",
        "3                    1041  Likely Voters         Internet     47      47   \n",
        "4                    1500  Likely Voters  Automated Phone     48      49   \n",
        "\n",
        "   Undecided                                       Pollster URL  \\\n",
        "0          6  http://elections.huffingtonpost.com/pollster/p...   \n",
        "1        NaN  http://elections.huffingtonpost.com/pollster/p...   \n",
        "2          4  http://elections.huffingtonpost.com/pollster/p...   \n",
        "3          6  http://elections.huffingtonpost.com/pollster/p...   \n",
        "4        NaN  http://elections.huffingtonpost.com/pollster/p...   \n",
        "\n",
        "                                          Source URL     Partisan Affiliation  \n",
        "0  http://www.politico.com/news/stories/1112/8338...  Nonpartisan        None  \n",
        "1                                                NaN  Nonpartisan        None  \n",
        "2  http://www.gravispolls.com/2012/11/gravis-mark...  Nonpartisan        None  \n",
        "3                        http://www.jzanalytics.com/      Sponsor         Rep  \n",
        "4  http://www.rasmussenreports.com/public_content...  Nonpartisan        None  "
       ]
      }
     ],
     "prompt_number": 184
    },
    {
     "cell_type": "markdown",
     "metadata": {},
     "source": [
      "How many polls were conducted in November? Define this number as M.  \n",
      "\n",
      "**Hint**: Subset the `election` DataFrame for only dates in the `Start Date` column that are in November 2012.  "
     ]
    },
    {
     "cell_type": "code",
     "collapsed": false,
     "input": [
      "#your code here\n",
      "election['Month'] = pd.DatetimeIndex(election['Start Date']).month\n",
      "election['Year'] = pd.DatetimeIndex(election['Start Date']).year\n",
      "M = election.ix[election.Month == 11]\n",
      "M = M.ix[M.Year == 2012]\n",
      "print \"November had this many polls: \" + str(len(M))"
     ],
     "language": "python",
     "metadata": {},
     "outputs": [
      {
       "output_type": "stream",
       "stream": "stdout",
       "text": [
        "November had this many polls: 19\n"
       ]
      }
     ],
     "prompt_number": 185
    },
    {
     "cell_type": "markdown",
     "metadata": {},
     "source": [
      "Answer: 19"
     ]
    },
    {
     "cell_type": "markdown",
     "metadata": {},
     "source": [
      "What was the median of the number of observations in the November polls? Define this quantity as N. "
     ]
    },
    {
     "cell_type": "code",
     "collapsed": false,
     "input": [
      "#your code here\n",
      "obs = M['Number of Observations']\n",
      "N = int(obs.median())\n",
      "print N, \"is the median sample size\""
     ],
     "language": "python",
     "metadata": {},
     "outputs": [
      {
       "output_type": "stream",
       "stream": "stdout",
       "text": [
        "1200 is the median sample size\n"
       ]
      }
     ],
     "prompt_number": 186
    },
    {
     "cell_type": "markdown",
     "metadata": {},
     "source": [
      "Answer: 1200"
     ]
    },
    {
     "cell_type": "markdown",
     "metadata": {},
     "source": [
      "#### Problem 2(b)\n",
      "\n",
      "Using the median sample size $N$ from Problem 1(a), simulate the results from a single poll:  simulate the number of votes for Obama out of a sample size $N$ where $p$ = 0.53 is the percent of voters who are voting for Obama.  \n",
      "\n",
      "**Hint**: Use the binomial distribution with parameters $N$ and $p$ = 0.53. "
     ]
    },
    {
     "cell_type": "code",
     "collapsed": false,
     "input": [
      "#your code here\n",
      "p = 0.53\n",
      "sim = np.random.binomial(N, p)\n",
      "\n",
      "\n",
      "print sim, \"votes for a single simulation\""
     ],
     "language": "python",
     "metadata": {},
     "outputs": [
      {
       "output_type": "stream",
       "stream": "stdout",
       "text": [
        "638 votes for a single simulation\n"
       ]
      }
     ],
     "prompt_number": 187
    },
    {
     "cell_type": "markdown",
     "metadata": {},
     "source": [
      "Now, perform a Monte Carlo simulation to obtain the estimated percentage of Obama votes with a sample size $N$ where $N$ is the median sample size calculated in Problem 2(a). Let $p$=0.53 be the percent of voters are voting for Obama. \n",
      "\n",
      "**Hint**: You will repeat the simulation above 1,000 times and plot the distribution of the estimated *percent* of Obama votes from a single poll.  The results from the single poll you simulate is random variable and will be different every time you sample. "
     ]
    },
    {
     "cell_type": "code",
     "collapsed": false,
     "input": [
      "#your code here\n",
      "def montCar(N,p,nsim):\n",
      "    mc = [None] * nsim\n",
      "    for i in range(nsim):\n",
      "        mc[i] =  np.random.binomial(N, p)       \n",
      "    myArray = np.array(mc)\n",
      "    newArray = myArray/float(N)\n",
      "    return(newArray)"
     ],
     "language": "python",
     "metadata": {},
     "outputs": [],
     "prompt_number": 188
    },
    {
     "cell_type": "code",
     "collapsed": false,
     "input": [
      "mc = montCar(N,p, 1000)\n",
      "\n",
      "#set figure and axis\n",
      "fig = plt.figure(figsize=(8, 6))\n",
      "\n",
      "#make subplot\n",
      "ax = Subplot(fig, 111)\n",
      "fig.add_subplot(ax)\n",
      "\n",
      "#plot\n",
      "ax.hist(mc, bins = 20, color = \"0.75\") # plot the bins\n",
      "\n",
      "plt.xlabel(\"Percent of voters for Obama\") # xlabel\n",
      "plt.ylabel(\"Frequency\") # ylabel\n",
      "plt.title(\"Histogram for Monte Carlo simulation for Obama's votes\") # title\n",
      "\n",
      "#do not display top and right axes\n",
      "ax.axis[\"right\"].set_visible(False)\n",
      "ax.axis[\"top\"].set_visible(False)"
     ],
     "language": "python",
     "metadata": {},
     "outputs": [
      {
       "metadata": {},
       "output_type": "display_data",
       "png": "[encoded data removed]",
       "text": [
        "<matplotlib.figure.Figure at 0x10b064710>"
       ]
      }
     ],
     "prompt_number": 189
    },
    {
     "cell_type": "markdown",
     "metadata": {},
     "source": [
      "Plot the distribution of the estimated percentage of Obama votes from your single poll. What is the distribution of the estimated percentage of Obama votes? "
     ]
    },
    {
     "cell_type": "code",
     "collapsed": false,
     "input": [
      "#your code here\n",
      "print \"The distribution is binomial(N, p), but it has been converted to a percentage by dividing by 1200\""
     ],
     "language": "python",
     "metadata": {},
     "outputs": [
      {
       "output_type": "stream",
       "stream": "stdout",
       "text": [
        "The distribution is binomial(N, p), but it has been converted to a percentage by dividing by 1200\n"
       ]
      }
     ],
     "prompt_number": 190
    },
    {
     "cell_type": "markdown",
     "metadata": {},
     "source": [
      "Answer: The distribution is binomial(N, p), but it has been converted to a percentage by dividing by 1200"
     ]
    },
    {
     "cell_type": "markdown",
     "metadata": {},
     "source": [
      "What is the standard error (SE) of the estimated percentage from the poll. \n",
      "\n",
      "**Hint**: Remember the SE is the standard deviation (SD) of the distribution of a random variable. "
     ]
    },
    {
     "cell_type": "code",
     "collapsed": false,
     "input": [
      "#your code here\n",
      "print \"The SD of the sampling distribution is \", mc.std()"
     ],
     "language": "python",
     "metadata": {},
     "outputs": [
      {
       "output_type": "stream",
       "stream": "stdout",
       "text": [
        "The SD of the sampling distribution is  0.0145601508835\n"
       ]
      }
     ],
     "prompt_number": 191
    },
    {
     "cell_type": "markdown",
     "metadata": {},
     "source": [
      "#### Problem 2(c)\n",
      "\n",
      "Now suppose we run M polls where M is the number of polls that happened in November (calculated in Problem 2(a)). Run 1,000 simulations and compute the mean of the M polls for each simulation. "
     ]
    },
    {
     "cell_type": "code",
     "collapsed": false,
     "input": [
      "ms= np.array(M['Number of Observations'])\n",
      "mm = ms[~np.isnan(ms)] # get rid of the poll that doesn't have a number associated with it."
     ],
     "language": "python",
     "metadata": {},
     "outputs": [],
     "prompt_number": 192
    },
    {
     "cell_type": "code",
     "collapsed": false,
     "input": [
      "#your code here\n",
      "N = 1000\n",
      "p = 0.53\n",
      "poll = len(mm)\n",
      "\n",
      "ls = [None]*N\n",
      "me = [None] * len(mm)\n",
      "for i in range(N): # want to run the loop 1000 times\n",
      "    \n",
      "    # run each of the polls, taking each one's sample size into account\n",
      "    for j in range(len(mm)):\n",
      "        me[j] =  np.random.binomial(int(mm[j]), p)/ float(mm[j])\n",
      "    \n",
      "    # calculate the mean for each of the polls\n",
      "    ls[i] =  np.array(me).mean()"
     ],
     "language": "python",
     "metadata": {},
     "outputs": [],
     "prompt_number": 193
    },
    {
     "cell_type": "code",
     "collapsed": false,
     "input": [
      "#set figure and axis\n",
      "fig = plt.figure(figsize=(8, 6))\n",
      "\n",
      "#make subplot\n",
      "ax = Subplot(fig, 111)\n",
      "fig.add_subplot(ax)\n",
      "\n",
      "#plot\n",
      "ax.hist(ls, bins = 20, color = \"0.75\") # plot the bins\n",
      "\n",
      "plt.xlabel(\"Percent of voters for Obama\") # xlabel\n",
      "plt.ylabel(\"Frequency\") # ylabel\n",
      "plt.title(\"Histogram for Monte Carlo simulation for mean of all the polls in November\") # title\n",
      "\n",
      "#do not display top and right axes\n",
      "ax.axis[\"right\"].set_visible(False)\n",
      "ax.axis[\"top\"].set_visible(False)"
     ],
     "language": "python",
     "metadata": {},
     "outputs": [
      {
       "metadata": {},
       "output_type": "display_data",
       "png": "[encoded data removed]",
       "text": [
        "<matplotlib.figure.Figure at 0x10c01ba50>"
       ]
      }
     ],
     "prompt_number": 194
    },
    {
     "cell_type": "markdown",
     "metadata": {},
     "source": [
      "What is the distribution of the average of polls?\n",
      "\n",
      "**Hint**: Show a plot. "
     ]
    },
    {
     "cell_type": "markdown",
     "metadata": {},
     "source": [
      "Answer: The distribution is also binomial, but converted to a proportion."
     ]
    },
    {
     "cell_type": "markdown",
     "metadata": {},
     "source": [
      "What is the standard error (SE) of the average of polls? "
     ]
    },
    {
     "cell_type": "code",
     "collapsed": false,
     "input": [
      "#your code here\n",
      "ll = np.array(ls)\n",
      "print \"The SE is \", ll.std()"
     ],
     "language": "python",
     "metadata": {},
     "outputs": [
      {
       "output_type": "stream",
       "stream": "stdout",
       "text": [
        "The SE is  0.00336934293394\n"
       ]
      }
     ],
     "prompt_number": 195
    },
    {
     "cell_type": "markdown",
     "metadata": {},
     "source": [
      "Answer: The SE is 0.00337392280352"
     ]
    },
    {
     "cell_type": "markdown",
     "metadata": {},
     "source": [
      "Is the SE of the average of polls larger, the same, or smaller than that the SD of a single poll (calculated in Problem 2(b))? By how much?\n",
      "\n",
      "**Hint**: Compute a ratio of the two quantities.  "
     ]
    },
    {
     "cell_type": "code",
     "collapsed": false,
     "input": [
      "#your code here \n",
      "mc.std() / ll.std()"
     ],
     "language": "python",
     "metadata": {},
     "outputs": [
      {
       "metadata": {},
       "output_type": "pyout",
       "prompt_number": 196,
       "text": [
        "4.3213621079696054"
       ]
      }
     ],
     "prompt_number": 196
    },
    {
     "cell_type": "heading",
     "level": 3,
     "metadata": {},
     "source": [
      "Answer: The sd of a single poll is about 4.3 times larger than the sd of all the polls"
     ]
    },
    {
     "cell_type": "markdown",
     "metadata": {},
     "source": [
      "#### Problem 2(d) \n",
      "\n",
      "Repeat Problem 2(c) but now record the *across poll* standard deviation in each simulation. "
     ]
    },
    {
     "cell_type": "code",
     "collapsed": false,
     "input": [
      "#your code here\n",
      "#your code here\n",
      "N = 1000\n",
      "p = 0.53\n",
      "poll = len(mm)\n",
      "\n",
      "lss = [None]*N\n",
      "mee = [None] * len(mm)\n",
      "for i in range(N): # want to run the loop 1000 times\n",
      "    \n",
      "    # run each of the polls, taking each one's sample size into account\n",
      "    for j in range(len(mm)):\n",
      "        mee[j] =  np.random.binomial(int(mm[j]), p)/float(mm[j]) * 100 # to convert to percent\n",
      "    \n",
      "    # calculate the sdt for each of the polls\n",
      "    lss[i] =  np.array(mee).std()\n",
      "    #set figure and axis"
     ],
     "language": "python",
     "metadata": {},
     "outputs": [],
     "prompt_number": 197
    },
    {
     "cell_type": "markdown",
     "metadata": {},
     "source": [
      "What is the distribution of the *across M polls* standard deviation?\n",
      "\n",
      "It is also binomial, except converted to percentage.\n",
      "\n",
      "**Hint**: Show a plot. "
     ]
    },
    {
     "cell_type": "code",
     "collapsed": false,
     "input": [
      "#your code here\n",
      "#set figure and axis\n",
      "fig = plt.figure(figsize=(8, 6))\n",
      "\n",
      "#make subplot\n",
      "ax = Subplot(fig, 111)\n",
      "fig.add_subplot(ax)\n",
      "\n",
      "#plot\n",
      "ax.hist(lss, bins = 20, color = \"0.75\") # plot the bins\n",
      "\n",
      "plt.xlabel(\"Across Poll SD in percent\") # xlabel\n",
      "plt.ylabel(\"Frequency\") # ylabel\n",
      "plt.title(\"Histogram for Monte Carlo simulation for sd of all the polls in November\") # title\n",
      "\n",
      "#do not display top and right axes\n",
      "ax.axis[\"right\"].set_visible(False)\n",
      "ax.axis[\"top\"].set_visible(False)\n"
     ],
     "language": "python",
     "metadata": {},
     "outputs": [
      {
       "metadata": {},
       "output_type": "display_data",
       "png": "[encoded data removed]",
       "text": [
        "<matplotlib.figure.Figure at 0x114747550>"
       ]
      }
     ],
     "prompt_number": 198
    },
    {
     "cell_type": "markdown",
     "metadata": {},
     "source": [
      "Answer: This also looks like a binomial distribution, but converted to sd instead of count."
     ]
    },
    {
     "cell_type": "markdown",
     "metadata": {},
     "source": [
      "#### Problem 2(e) \n",
      "\n",
      "What is the standard deviation of M polls in our real (not simulated) 2012 presidential election data ? "
     ]
    },
    {
     "cell_type": "code",
     "collapsed": false,
     "input": [
      "#your code here\n",
      "print M.Obama.std(), \"is the SD of M polls\""
     ],
     "language": "python",
     "metadata": {},
     "outputs": [
      {
       "output_type": "stream",
       "stream": "stdout",
       "text": [
        "1.08417646003 is the SD of M polls\n"
       ]
      }
     ],
     "prompt_number": 199
    },
    {
     "cell_type": "markdown",
     "metadata": {},
     "source": [
      "Is this larger, the same, or smaller than what we expeced if polls were not biased."
     ]
    },
    {
     "cell_type": "code",
     "collapsed": false,
     "input": [
      "#your code here\n",
      "print np.array(lss).mean(), \"is the mean SD of simulated data\""
     ],
     "language": "python",
     "metadata": {},
     "outputs": [
      {
       "output_type": "stream",
       "stream": "stdout",
       "text": [
        "1.3803010986 is the mean SD of simulated data\n"
       ]
      }
     ],
     "prompt_number": 200
    },
    {
     "cell_type": "markdown",
     "metadata": {},
     "source": [
      "Answer: The sd of the actual polls is very close to what we expect, if polls were not biased."
     ]
    },
    {
     "cell_type": "markdown",
     "metadata": {},
     "source": [
      "#### Problem 2(f)\n",
      "\n",
      "**For AC209 Students**: Learn about the normal appoximation for the binomial distribution and derive the results of Problem 2(b) and 2(c) analytically (using this approximation). Compare the results obtained analytically to those obtained from simulations."
     ]
    },
    {
     "cell_type": "code",
     "collapsed": false,
     "input": [
      "#your code here"
     ],
     "language": "python",
     "metadata": {},
     "outputs": [],
     "prompt_number": 201
    },
    {
     "cell_type": "markdown",
     "metadata": {},
     "source": [
      "Answer: "
     ]
    },
    {
     "cell_type": "markdown",
     "metadata": {},
     "source": [
      "## Discussion for Problem 2\n",
      "\n",
      "*Write a brief discussion of your conclusions to the questions and tasks above in 100 words or less.*\n",
      "\n",
      "---\n",
      "\n",
      "After doing the simulations, I conclude that the average of all the polls is more accurate than a single poll by itself -- it has a smaller standard deviation.\n",
      "\n",
      "However, the polls may be biased.  I can tell b/c the sd of the polls is not exactly equal to the sd of a simulation.\n",
      "\n",
      "\n",
      "\n"
     ]
    },
    {
     "cell_type": "markdown",
     "metadata": {},
     "source": [
      "## Problem 3: Is the average of polls better than just one poll?"
     ]
    },
    {
     "cell_type": "markdown",
     "metadata": {},
     "source": [
      "#### Problem 3(a)\n",
      "\n",
      "Most undecided voters vote for one of the two candidates at the election. Therefore, the reported percentages underestimate the final value of both candidates. However, if we assume the undecided will split evenly, then the observed difference should be an unbiased estimate of the final difference. \n",
      "\n",
      "Add a new column to the `election` DataFrame containg the difference between Obama and Romeny called `Diff`. "
     ]
    },
    {
     "cell_type": "code",
     "collapsed": false,
     "input": [
      "# prepare for this and future questions\n",
      "M['Diff'] = M['Obama'] - M['Romney']\n",
      "election['Diff'] = election['Obama'] - election['Romney']"
     ],
     "language": "python",
     "metadata": {},
     "outputs": [],
     "prompt_number": 202
    },
    {
     "cell_type": "markdown",
     "metadata": {},
     "source": [
      "#### Problem 3(b)\n",
      "\n",
      "Make a plot of the differences for the week before the election (e.g. 5 days) where the days are on the x-axis and the differences are on the y-axis.  Add a horizontal line showing 3.9%: the difference between Obama and Romney on election day."
     ]
    },
    {
     "cell_type": "code",
     "collapsed": false,
     "input": [
      "# recode days before election\n",
      "M['Daysb4Election'] = 6 - pd.DatetimeIndex(M['End Date']).day\n",
      "\n",
      "# I know there's a better way to do this...\n",
      "dat = [M.Diff[M.Daysb4Election == 4], M.Diff[M.Daysb4Election == 3], M.Diff[M.Daysb4Election == 2], M.Diff[M.Daysb4Election == 1]]\n",
      "\n",
      "#set figure and axis\n",
      "fig = plt.figure(figsize=(8, 6))\n",
      "\n",
      "#make subplot\n",
      "ax = Subplot(fig, 111)\n",
      "fig.add_subplot(ax)\n",
      "\n",
      "#plot\n",
      "bp = ax.boxplot(dat) # plot the boxes\n",
      "ax.scatter(5-M.Daysb4Election, M.Diff, facecolor = \"0\", alpha = 0.5) # plot the points\n",
      "\n",
      "plt.xlabel(\"Days before election\") # xlabel\n",
      "plt.ylabel(\"Polls' difference prediction\") # ylabel\n",
      "plt.title(\"Polls' differences for Obama v Romney by each day before the election\") # title\n",
      "plt.hlines(3.9, 0, 5, color = \"0.75\", label=\"Actual Difference\")\n",
      "plt.ylim(-4,5)\n",
      "plt.setp(bp['boxes'], color='black')\n",
      "plt.setp(bp['whiskers'], color='black')\n",
      "plt.setp(bp['fliers'], color='red', marker='+')\n",
      "plt.setp(ax, xticklabels=[\"4\",\"3\",\"2\",\"1\"])\n",
      "\n",
      "#do not display top and right axes\n",
      "ax.axis[\"right\"].set_visible(False)\n",
      "ax.axis[\"top\"].set_visible(False)\n",
      "plt.legend(loc = 4)\n",
      "\n",
      "plt.show()"
     ],
     "language": "python",
     "metadata": {},
     "outputs": [
      {
       "metadata": {},
       "output_type": "display_data",
       "png": "[encoded data removed]",
       "text": [
        "<matplotlib.figure.Figure at 0x10b189ed0>"
       ]
      }
     ],
     "prompt_number": 203
    },
    {
     "cell_type": "markdown",
     "metadata": {},
     "source": [
      "#### Problem 3(c) \n",
      "\n",
      "Make a plot showing the differences by pollster where the pollsters are on the x-axis and the differences on the y-axis. "
     ]
    },
    {
     "cell_type": "code",
     "collapsed": false,
     "input": [
      "DD = election.ix[election.Year == 2012]\n",
      "# separate data by pollster to get it in correct form for boxplot\n",
      "\n",
      "xlabels = [None]*len(set(DD.Pollster))\n",
      "pl = [None]*len(set(DD.Pollster))\n",
      "sds = [None]*len(set(DD.Pollster))\n",
      "means = [None]*len(set(DD.Pollster))\n",
      "\n",
      "for i in range(len(set(DD.Pollster))):\n",
      "    #print DD.Pollster[i]\n",
      "    pl[i] = (DD[DD.Pollster == DD.Pollster[i]]).Diff \n",
      "    xlabels[i] = DD.Pollster[i]\n",
      "    sds[i] = pl[i].std()\n",
      "    means[i] = pl[i].mean()"
     ],
     "language": "python",
     "metadata": {},
     "outputs": [],
     "prompt_number": 204
    },
    {
     "cell_type": "code",
     "collapsed": false,
     "input": [
      "############## MAKE A BOXPLOT ################\n",
      "fig, ax = plt.subplots(1,1, figsize=(18,5))\n",
      "bp = ax.boxplot(pl)\n",
      "ax.set_xticklabels(xlabels, rotation=90, ha = 'left')\n",
      "plt.xlabel(\"Pollster\") # xlabel\n",
      "plt.ylabel(\"Predicted Difference\") # ylabel\n",
      "plt.title(\"Pollsters' Predictions\") # title\n",
      "plt.hlines(3.9, -1, 55, color = \"0.75\", label= \"Actual Difference\")\n",
      "plt.ylim(-10,14)\n",
      "plt.setp(bp['boxes'], color='black')\n",
      "plt.setp(bp['whiskers'], color='black')\n",
      "plt.setp(bp['fliers'], color='red', marker='.')\n",
      "plt.legend(loc = 4)\n",
      "plt.show()"
     ],
     "language": "python",
     "metadata": {},
     "outputs": [
      {
       "metadata": {},
       "output_type": "display_data",
       "png": "[encoded data removed]",
       "text": [
        "<matplotlib.figure.Figure at 0x10b1a1450>"
       ]
      }
     ],
     "prompt_number": 205
    },
    {
     "cell_type": "markdown",
     "metadata": {},
     "source": [
      "Is the *across poll* difference larger than the *between pollster* difference? "
     ]
    },
    {
     "cell_type": "code",
     "collapsed": false,
     "input": [
      "ms = np.array(means)\n",
      "mss = ms[~np.isnan(ms)] # get rid of nan's\n",
      "\n",
      "ss = np.array(sds)\n",
      "ss = ss[~np.isnan(ss)] # get rid of nan's\n",
      "\n",
      "print ss.mean(), \"is the mean standard deviation among pollsters\"\n",
      "print mss.std(), \"is the std dev of the means across pollsters\""
     ],
     "language": "python",
     "metadata": {},
     "outputs": [
      {
       "output_type": "stream",
       "stream": "stdout",
       "text": [
        "2.70511150521 is the mean standard deviation among pollsters\n",
        "1.40486634453 is the std dev of the means across pollsters\n"
       ]
      }
     ],
     "prompt_number": 206
    },
    {
     "cell_type": "markdown",
     "metadata": {},
     "source": [
      "Answer:\n",
      "\n",
      "2.7 is the mean standard deviation among pollsters\n",
      "\n",
      "1.4 is the std dev of the means across pollsters\n",
      "\n",
      "This suggests that the difference across each poll is larger than the difference of the means across pollsters\n",
      "\n"
     ]
    },
    {
     "cell_type": "markdown",
     "metadata": {},
     "source": [
      "#### Problem 3(d)\n",
      "\n",
      "Take the average for each pollster and then compute the average of that. Given this difference how confident would you have been of an Obama victory?\n",
      "\n",
      "**Hint**: Compute an estimate of the SE of this average based exclusively on the observed data. "
     ]
    },
    {
     "cell_type": "code",
     "collapsed": false,
     "input": [
      "#your code here\n",
      "print mss.mean(), \"is the mean of the means of the pollsters who did polls in 2012\""
     ],
     "language": "python",
     "metadata": {},
     "outputs": [
      {
       "output_type": "stream",
       "stream": "stdout",
       "text": [
        "1.49132412225 is the mean of the means of the pollsters who did polls in 2012\n"
       ]
      }
     ],
     "prompt_number": 207
    },
    {
     "cell_type": "markdown",
     "metadata": {},
     "source": [
      "Answer: The mean of the means is 1.49 percent. Given this difference, I wouldn't have been very confident in an Obama victory.  Given my std deviation of the means (above), I wouldn't be confident."
     ]
    },
    {
     "cell_type": "markdown",
     "metadata": {},
     "source": [
      "#### Problem 3(e)\n",
      "\n",
      "**For AC209 Students**: Show the difference against time and see if you can detect a trend towards the end. Use this trend to see if it improves the final estimate."
     ]
    },
    {
     "cell_type": "code",
     "collapsed": false,
     "input": [
      "#your code here"
     ],
     "language": "python",
     "metadata": {},
     "outputs": [],
     "prompt_number": 208
    },
    {
     "cell_type": "markdown",
     "metadata": {},
     "source": [
      "Answer: "
     ]
    },
    {
     "cell_type": "markdown",
     "metadata": {},
     "source": [
      "## Discussion for Problem 3\n",
      "\n",
      "*Write a brief discussion of your conclusions to the questions and tasks above in 100 words or less.*\n",
      "\n",
      "---\n",
      "\n",
      "I used actual data to help predict the outcome of the 2012 election.  I used only polls that were taken in 2012.  The analysis of all of the polls wasn't as accurate as I had hoped -- the average of the polls suggested that the victory would be a smaller difference than actually happened.  The variation among pollsters was smaller than the variation within pollsters."
     ]
    },
    {
     "cell_type": "markdown",
     "metadata": {},
     "source": [
      "## Problem 4\n",
      "\n",
      "In this last problem, we will use the polls from the [2014 Senate Midterm Elections](http://elections.huffingtonpost.com/pollster) from the [HuffPost Pollster API](http://elections.huffingtonpost.com/pollster/api) to create a preliminary prediction of the result of each state. \n",
      "\n",
      "The HuffPost Pollster API allows you to access the data as a CSV or a JSON response by tacking \".csv\" or \".json\" at the end of the URLs. For example the 2012 Presidential Election could be accessed as a [.json](http://elections.huffingtonpost.com/pollster/2012-general-election-romney-vs-obama.json) instead of a [.csv](http://elections.huffingtonpost.com/pollster/2012-general-election-romney-vs-obama.csv)"
     ]
    },
    {
     "cell_type": "markdown",
     "metadata": {},
     "source": [
      "#### Problem 4(a)\n",
      "\n",
      "Read in the polls for **all** of the 2014 Senate Elections using the HuffPost API. For example, we can consider the [2014 Senate race in Kentucky between Mitch McConnell and Alison Grimes](http://elections.huffingtonpost.com/pollster/2014-kentucky-senate-mcconnell-vs-grimes). \n",
      "\n",
      "To search for the 2014 Senate races, use the `topics` parameter in the API [[read more about topics here](http://elections.huffingtonpost.com/pollster/api)].  "
     ]
    },
    {
     "cell_type": "code",
     "collapsed": false,
     "input": [
      "url_str = \"http://elections.huffingtonpost.com/pollster/api/charts/?topic=2014-senate\""
     ],
     "language": "python",
     "metadata": {},
     "outputs": [],
     "prompt_number": 209
    },
    {
     "cell_type": "markdown",
     "metadata": {},
     "source": [
      "To list all the URLs related to the 2014 Senate races using the pollster API, we can use a list comprehension:"
     ]
    },
    {
     "cell_type": "code",
     "collapsed": false,
     "input": [
      "election_urls = [election['url'] + '.csv' for election in requests.get(url_str).json()]\n",
      "election_urls"
     ],
     "language": "python",
     "metadata": {},
     "outputs": [
      {
       "metadata": {},
       "output_type": "pyout",
       "prompt_number": 210,
       "text": [
        "[u'http://elections.huffingtonpost.com/pollster/2014-kentucky-senate-mcconnell-vs-grimes.csv',\n",
        " u'http://elections.huffingtonpost.com/pollster/2014-arkansas-senate-cotton-vs-pryor.csv',\n",
        " u'http://elections.huffingtonpost.com/pollster/2014-michigan-senate-land-vs-peters.csv',\n",
        " u'http://elections.huffingtonpost.com/pollster/2014-louisiana-senate-cassidy-vs-landrieu.csv',\n",
        " u'http://elections.huffingtonpost.com/pollster/2014-new-hampshire-senate-brown-vs-shaheen.csv',\n",
        " u'http://elections.huffingtonpost.com/pollster/2014-west-virginia-senate-capito-vs-tennant.csv',\n",
        " u'http://elections.huffingtonpost.com/pollster/2014-new-hampshire-senate-bass-vs-shaheen.csv',\n",
        " u'http://elections.huffingtonpost.com/pollster/2014-north-carolina-senate-tillis-vs-hagan.csv',\n",
        " u'http://elections.huffingtonpost.com/pollster/2014-virginia-senate-gillespie-vs-warner.csv',\n",
        " u'http://elections.huffingtonpost.com/pollster/2014-colorado-senate-gardner-vs-udall.csv',\n",
        " u'http://elections.huffingtonpost.com/pollster/2014-illinois-senate-oberweis-vs-durbin.csv',\n",
        " u'http://elections.huffingtonpost.com/pollster/2014-alaska-senate-sullivan-vs-begich.csv',\n",
        " u'http://elections.huffingtonpost.com/pollster/2014-iowa-senate-ernst-vs-braley.csv',\n",
        " u'http://elections.huffingtonpost.com/pollster/2014-mississippi-senate-cochran-vs-childers.csv',\n",
        " u'http://elections.huffingtonpost.com/pollster/2014-oregon-senate-wehby-vs-merkley.csv',\n",
        " u'http://elections.huffingtonpost.com/pollster/2014-georgia-senate-perdue-vs-nunn.csv',\n",
        " u'http://elections.huffingtonpost.com/pollster/2014-louisiana-senate-sasse-vs-domina.csv',\n",
        " u'http://elections.huffingtonpost.com/pollster/2014-south-dakota-senate-rounds-vs-weiland.csv',\n",
        " u'http://elections.huffingtonpost.com/pollster/2014-maine-senate-collins-vs-bellows.csv',\n",
        " u'http://elections.huffingtonpost.com/pollster/2014-minnesota-senate-mcfadden-vs-franken.csv',\n",
        " u'http://elections.huffingtonpost.com/pollster/2014-texas-senate-cornyn-vs-alameel.csv',\n",
        " u'http://elections.huffingtonpost.com/pollster/2014-south-carolina-senate-graham-vs-hutto.csv',\n",
        " u'http://elections.huffingtonpost.com/pollster/2014-south-carolina-senate-scott-vs-dickerson.csv',\n",
        " u'http://elections.huffingtonpost.com/pollster/2014-oklahoma-senate-inhofe-vs-silverstein.csv',\n",
        " u'http://elections.huffingtonpost.com/pollster/2014-new-mexico-senate-weh-vs-udall.csv',\n",
        " u'http://elections.huffingtonpost.com/pollster/2014-new-jersey-senate-bell-vs-booker.csv',\n",
        " u'http://elections.huffingtonpost.com/pollster/2014-idaho-senate-risch-vs-mitchell.csv',\n",
        " u'http://elections.huffingtonpost.com/pollster/2014-tennessee-senate-alexander-vs-ball.csv',\n",
        " u'http://elections.huffingtonpost.com/pollster/2014-wyoming-senate.csv',\n",
        " u'http://elections.huffingtonpost.com/pollster/2014-kansas-senate-roberts-vs-orman-vs-taylor.csv',\n",
        " u'http://elections.huffingtonpost.com/pollster/2014-hawaii-senate-cavasso-vs-schatz.csv',\n",
        " u'http://elections.huffingtonpost.com/pollster/2014-oklahoma-senate-lankford-vs-johnson.csv',\n",
        " u'http://elections.huffingtonpost.com/pollster/2014-montana-senate-daines-vs-curtis.csv',\n",
        " u'http://elections.huffingtonpost.com/pollster/2014-rhode-island-senate-zaccaria-vs-reed.csv',\n",
        " u'http://elections.huffingtonpost.com/pollster/2014-massachusetts-senate-herr-vs-markey.csv',\n",
        " u'http://elections.huffingtonpost.com/pollster/2014-delaware-senate-wade-vs-coons.csv']"
       ]
      }
     ],
     "prompt_number": 210
    },
    {
     "cell_type": "markdown",
     "metadata": {},
     "source": [
      "Because there so many Senate races, we can create a dictionary of pandas DataFrames that will be keyed by the name of the election (a string). "
     ]
    },
    {
     "cell_type": "code",
     "collapsed": false,
     "input": [
      "def build_frame(url):\n",
      "    \"\"\"\n",
      "    Returns a pandas DataFrame object containing\n",
      "    the data returned from the given url\n",
      "    \"\"\"\n",
      "    source = requests.get(url).text\n",
      "    \n",
      "    # Use StringIO because pd.DataFrame.from_csv requires .read() method\n",
      "    s = StringIO(source)\n",
      "    \n",
      "    return pd.DataFrame.from_csv(s, index_col=None).convert_objects(\n",
      "            convert_dates=\"coerce\", convert_numeric=True)"
     ],
     "language": "python",
     "metadata": {},
     "outputs": [],
     "prompt_number": 211
    },
    {
     "cell_type": "code",
     "collapsed": false,
     "input": [
      "# Makes a dictionary of pandas DataFrames keyed on election string.\n",
      "dfs = dict((election.split(\"/\")[-1][:-4], build_frame(election)) for election in election_urls)"
     ],
     "language": "python",
     "metadata": {},
     "outputs": [],
     "prompt_number": 212
    },
    {
     "cell_type": "markdown",
     "metadata": {},
     "source": [
      "Show the head of the DataFrame containing the polls for the 2014 Senate race in Kentucky between McConnell and Grimes."
     ]
    },
    {
     "cell_type": "code",
     "collapsed": false,
     "input": [
      "#your code here\n",
      "ken = dfs['2014-kentucky-senate-mcconnell-vs-grimes']\n",
      "ken.head()"
     ],
     "language": "python",
     "metadata": {},
     "outputs": [
      {
       "html": [
        "<div style=\"max-height:1000px;max-width:1500px;overflow:auto;\">\n",
        "<table border=\"1\" class=\"dataframe\">\n",
        "  <thead>\n",
        "    <tr style=\"text-align: right;\">\n",
        "      <th></th>\n",
        "      <th>Pollster</th>\n",
        "      <th>Start Date</th>\n",
        "      <th>End Date</th>\n",
        "      <th>Entry Date/Time (ET)</th>\n",
        "      <th>Number of Observations</th>\n",
        "      <th>Population</th>\n",
        "      <th>Mode</th>\n",
        "      <th>McConnell</th>\n",
        "      <th>Grimes</th>\n",
        "      <th>Undecided</th>\n",
        "      <th>Pollster URL</th>\n",
        "      <th>Source URL</th>\n",
        "      <th>Partisan</th>\n",
        "      <th>Affiliation</th>\n",
        "    </tr>\n",
        "  </thead>\n",
        "  <tbody>\n",
        "    <tr>\n",
        "      <th>0</th>\n",
        "      <td>                       Mellman (D-Grimes)</td>\n",
        "      <td>2014-09-19</td>\n",
        "      <td>2014-09-27</td>\n",
        "      <td>2014-10-01 15:13:47</td>\n",
        "      <td> 1800</td>\n",
        "      <td> Likely Voters</td>\n",
        "      <td>      Live Phone</td>\n",
        "      <td> 40</td>\n",
        "      <td> 42</td>\n",
        "      <td> 16</td>\n",
        "      <td> http://elections.huffingtonpost.com/pollster/p...</td>\n",
        "      <td> http://images.politico.com/global/2014/09/30/m...</td>\n",
        "      <td>     Sponsor</td>\n",
        "      <td>  Dem</td>\n",
        "    </tr>\n",
        "    <tr>\n",
        "      <th>1</th>\n",
        "      <td>                  Gravis/Human Events (R)</td>\n",
        "      <td>2014-09-13</td>\n",
        "      <td>2014-09-16</td>\n",
        "      <td>2014-09-19 14:57:03</td>\n",
        "      <td>  839</td>\n",
        "      <td> Likely Voters</td>\n",
        "      <td> Automated Phone</td>\n",
        "      <td> 51</td>\n",
        "      <td> 41</td>\n",
        "      <td>  8</td>\n",
        "      <td> http://elections.huffingtonpost.com/pollster/p...</td>\n",
        "      <td> http://gravismarketing.com/polling-and-market-...</td>\n",
        "      <td>     Sponsor</td>\n",
        "      <td>  Rep</td>\n",
        "    </tr>\n",
        "    <tr>\n",
        "      <th>2</th>\n",
        "      <td>                            Ipsos/Reuters</td>\n",
        "      <td>2014-09-08</td>\n",
        "      <td>2014-09-12</td>\n",
        "      <td>2014-09-22 15:23:23</td>\n",
        "      <td>  944</td>\n",
        "      <td> Likely Voters</td>\n",
        "      <td>        Internet</td>\n",
        "      <td> 46</td>\n",
        "      <td> 42</td>\n",
        "      <td>  6</td>\n",
        "      <td> http://elections.huffingtonpost.com/pollster/p...</td>\n",
        "      <td>     http://ipsos-na.com/download/pr.aspx?id=13904</td>\n",
        "      <td> Nonpartisan</td>\n",
        "      <td> None</td>\n",
        "    </tr>\n",
        "    <tr>\n",
        "      <th>3</th>\n",
        "      <td> Magellan (R-National Mining Association)</td>\n",
        "      <td>2014-09-04</td>\n",
        "      <td>2014-09-07</td>\n",
        "      <td>2014-09-10 15:44:29</td>\n",
        "      <td>  742</td>\n",
        "      <td> Likely Voters</td>\n",
        "      <td> Automated Phone</td>\n",
        "      <td> 50</td>\n",
        "      <td> 42</td>\n",
        "      <td>  2</td>\n",
        "      <td> http://elections.huffingtonpost.com/pollster/p...</td>\n",
        "      <td> http://www.slideshare.net/MagellanStrat/nation...</td>\n",
        "      <td>     Sponsor</td>\n",
        "      <td>  Rep</td>\n",
        "    </tr>\n",
        "    <tr>\n",
        "      <th>4</th>\n",
        "      <td>                       Mellman (D-Grimes)</td>\n",
        "      <td>2014-09-04</td>\n",
        "      <td>2014-09-07</td>\n",
        "      <td>2014-09-10 18:53:37</td>\n",
        "      <td>  800</td>\n",
        "      <td> Likely Voters</td>\n",
        "      <td>      Live Phone</td>\n",
        "      <td> 42</td>\n",
        "      <td> 43</td>\n",
        "      <td> 15</td>\n",
        "      <td> http://elections.huffingtonpost.com/pollster/p...</td>\n",
        "      <td> http://images.politico.com/global/2014/09/09/1...</td>\n",
        "      <td>     Sponsor</td>\n",
        "      <td>  Dem</td>\n",
        "    </tr>\n",
        "  </tbody>\n",
        "</table>\n",
        "</div>"
       ],
       "metadata": {},
       "output_type": "pyout",
       "prompt_number": 213,
       "text": [
        "                                   Pollster Start Date   End Date  \\\n",
        "0                        Mellman (D-Grimes) 2014-09-19 2014-09-27   \n",
        "1                   Gravis/Human Events (R) 2014-09-13 2014-09-16   \n",
        "2                             Ipsos/Reuters 2014-09-08 2014-09-12   \n",
        "3  Magellan (R-National Mining Association) 2014-09-04 2014-09-07   \n",
        "4                        Mellman (D-Grimes) 2014-09-04 2014-09-07   \n",
        "\n",
        "  Entry Date/Time (ET)  Number of Observations     Population  \\\n",
        "0  2014-10-01 15:13:47                    1800  Likely Voters   \n",
        "1  2014-09-19 14:57:03                     839  Likely Voters   \n",
        "2  2014-09-22 15:23:23                     944  Likely Voters   \n",
        "3  2014-09-10 15:44:29                     742  Likely Voters   \n",
        "4  2014-09-10 18:53:37                     800  Likely Voters   \n",
        "\n",
        "              Mode  McConnell  Grimes  Undecided  \\\n",
        "0       Live Phone         40      42         16   \n",
        "1  Automated Phone         51      41          8   \n",
        "2         Internet         46      42          6   \n",
        "3  Automated Phone         50      42          2   \n",
        "4       Live Phone         42      43         15   \n",
        "\n",
        "                                        Pollster URL  \\\n",
        "0  http://elections.huffingtonpost.com/pollster/p...   \n",
        "1  http://elections.huffingtonpost.com/pollster/p...   \n",
        "2  http://elections.huffingtonpost.com/pollster/p...   \n",
        "3  http://elections.huffingtonpost.com/pollster/p...   \n",
        "4  http://elections.huffingtonpost.com/pollster/p...   \n",
        "\n",
        "                                          Source URL     Partisan Affiliation  \n",
        "0  http://images.politico.com/global/2014/09/30/m...      Sponsor         Dem  \n",
        "1  http://gravismarketing.com/polling-and-market-...      Sponsor         Rep  \n",
        "2      http://ipsos-na.com/download/pr.aspx?id=13904  Nonpartisan        None  \n",
        "3  http://www.slideshare.net/MagellanStrat/nation...      Sponsor         Rep  \n",
        "4  http://images.politico.com/global/2014/09/09/1...      Sponsor         Dem  "
       ]
      }
     ],
     "prompt_number": 213
    },
    {
     "cell_type": "markdown",
     "metadata": {},
     "source": [
      "#### Problem 4(b)\n",
      "\n",
      "For each 2014 Senate race, create a preliminary prediction of the result for that state."
     ]
    },
    {
     "cell_type": "code",
     "collapsed": false,
     "input": [
      "num = len(dfs.keys())\n",
      "winner = [None] * num\n",
      "amount = [None] * num\n",
      "lowerPred = [None] * num\n",
      "upperPred = [None] * num\n",
      "\n",
      "for i in range(num):\n",
      "    # get a data frame\n",
      "    nc = dfs[dfs.keys()[i]]\n",
      "    nc.ix[:,7:9]\n",
      "\n",
      "    nc['diff'] = nc.ix[:,7] - nc.ix[:,8]\n",
      "    sd = np.array(nc[\"diff\"]).std()\n",
      "    amount[i] = np.array(nc['diff']).mean()\n",
      "    lowerPred[i] = amount[i] - 1.96 * sd\n",
      "    upperPred[i] = amount[i] + 1.96 * sd\n",
      "    if amount[i] > 0:\n",
      "        winner[i] = nc.columns.values[7]\n",
      "    else: \n",
      "        winner[i] = nc.columns.values[8]\n",
      "        amount[i] = -amount[i]\n",
      "        lowerPred[i] = amount[i] - 1.96 * sd\n",
      "        upperPred[i] = amount[i] + 1.96 * sd\n",
      "ff = pd.DataFrame(np.array([winner, amount,  lowerPred, upperPred]))\n",
      "ff = ff.transpose()\n",
      "ff.columns = [\"Winner\", \"Difference\", \"Lower Prediction\", \"Upper Prediction\"]\n",
      "ff"
     ],
     "language": "python",
     "metadata": {},
     "outputs": [
      {
       "html": [
        "<div style=\"max-height:1000px;max-width:1500px;overflow:auto;\">\n",
        "<table border=\"1\" class=\"dataframe\">\n",
        "  <thead>\n",
        "    <tr style=\"text-align: right;\">\n",
        "      <th></th>\n",
        "      <th>Winner</th>\n",
        "      <th>Difference</th>\n",
        "      <th>Lower Prediction</th>\n",
        "      <th>Upper Prediction</th>\n",
        "    </tr>\n",
        "  </thead>\n",
        "  <tbody>\n",
        "    <tr>\n",
        "      <th>0 </th>\n",
        "      <td>    Daines</td>\n",
        "      <td>           19.0</td>\n",
        "      <td>           17.04</td>\n",
        "      <td>         20.96</td>\n",
        "    </tr>\n",
        "    <tr>\n",
        "      <th>1 </th>\n",
        "      <td>     Hagan</td>\n",
        "      <td>  3.39583333333</td>\n",
        "      <td>   -5.3580371995</td>\n",
        "      <td> 12.1497038662</td>\n",
        "    </tr>\n",
        "    <tr>\n",
        "      <th>2 </th>\n",
        "      <td> Alexander</td>\n",
        "      <td>          17.75</td>\n",
        "      <td>    8.4142461472</td>\n",
        "      <td> 27.0857538528</td>\n",
        "    </tr>\n",
        "    <tr>\n",
        "      <th>3 </th>\n",
        "      <td>    Peters</td>\n",
        "      <td>  3.13636363636</td>\n",
        "      <td>  -5.58499477629</td>\n",
        "      <td>  11.857722049</td>\n",
        "    </tr>\n",
        "    <tr>\n",
        "      <th>4 </th>\n",
        "      <td>      Enzi</td>\n",
        "      <td>           42.0</td>\n",
        "      <td>   33.6844242532</td>\n",
        "      <td> 50.3155757468</td>\n",
        "    </tr>\n",
        "    <tr>\n",
        "      <th>5 </th>\n",
        "      <td>    Begich</td>\n",
        "      <td>  1.63636363636</td>\n",
        "      <td>  -9.15651372108</td>\n",
        "      <td> 12.4292409938</td>\n",
        "    </tr>\n",
        "    <tr>\n",
        "      <th>6 </th>\n",
        "      <td>   Merkley</td>\n",
        "      <td>  11.9285714286</td>\n",
        "      <td> -0.976512840816</td>\n",
        "      <td>  24.833655698</td>\n",
        "    </tr>\n",
        "    <tr>\n",
        "      <th>7 </th>\n",
        "      <td>   Shaheen</td>\n",
        "      <td>           6.95</td>\n",
        "      <td>  -1.88033838536</td>\n",
        "      <td> 15.7803383854</td>\n",
        "    </tr>\n",
        "    <tr>\n",
        "      <th>8 </th>\n",
        "      <td>   Cochran</td>\n",
        "      <td>  15.1666666667</td>\n",
        "      <td>   11.6941523678</td>\n",
        "      <td> 18.6391809655</td>\n",
        "    </tr>\n",
        "    <tr>\n",
        "      <th>9 </th>\n",
        "      <td>      Reed</td>\n",
        "      <td>           27.5</td>\n",
        "      <td>            12.8</td>\n",
        "      <td>          42.2</td>\n",
        "    </tr>\n",
        "    <tr>\n",
        "      <th>10</th>\n",
        "      <td>    Booker</td>\n",
        "      <td>           13.0</td>\n",
        "      <td>   5.66635152192</td>\n",
        "      <td> 20.3336484781</td>\n",
        "    </tr>\n",
        "    <tr>\n",
        "      <th>11</th>\n",
        "      <td>    Warner</td>\n",
        "      <td>        17.3125</td>\n",
        "      <td>    4.2980640249</td>\n",
        "      <td> 30.3269359751</td>\n",
        "    </tr>\n",
        "    <tr>\n",
        "      <th>12</th>\n",
        "      <td>    Rounds</td>\n",
        "      <td>  13.7857142857</td>\n",
        "      <td>   1.69940798478</td>\n",
        "      <td> 25.8720205866</td>\n",
        "    </tr>\n",
        "    <tr>\n",
        "      <th>13</th>\n",
        "      <td> McConnell</td>\n",
        "      <td>  2.38636363636</td>\n",
        "      <td>  -4.90209497473</td>\n",
        "      <td> 9.67482224746</td>\n",
        "    </tr>\n",
        "    <tr>\n",
        "      <th>14</th>\n",
        "      <td>    Braley</td>\n",
        "      <td>  1.65517241379</td>\n",
        "      <td>  -7.61375287348</td>\n",
        "      <td> 10.9240977011</td>\n",
        "    </tr>\n",
        "    <tr>\n",
        "      <th>15</th>\n",
        "      <td>    Inhofe</td>\n",
        "      <td>           29.0</td>\n",
        "      <td>   22.0243088753</td>\n",
        "      <td> 35.9756911247</td>\n",
        "    </tr>\n",
        "    <tr>\n",
        "      <th>16</th>\n",
        "      <td>    Durbin</td>\n",
        "      <td>  12.1111111111</td>\n",
        "      <td>   2.44511368856</td>\n",
        "      <td> 21.7771085337</td>\n",
        "    </tr>\n",
        "    <tr>\n",
        "      <th>17</th>\n",
        "      <td>    Graham</td>\n",
        "      <td>  14.6666666667</td>\n",
        "      <td>   9.27914198253</td>\n",
        "      <td> 20.0541913508</td>\n",
        "    </tr>\n",
        "    <tr>\n",
        "      <th>18</th>\n",
        "      <td>   Collins</td>\n",
        "      <td>  35.7142857143</td>\n",
        "      <td>   17.6678567046</td>\n",
        "      <td> 53.7607147239</td>\n",
        "    </tr>\n",
        "    <tr>\n",
        "      <th>19</th>\n",
        "      <td>    Capito</td>\n",
        "      <td>  12.8181818182</td>\n",
        "      <td>   2.45296088669</td>\n",
        "      <td> 23.1834027497</td>\n",
        "    </tr>\n",
        "    <tr>\n",
        "      <th>20</th>\n",
        "      <td>    Schatz</td>\n",
        "      <td>           35.0</td>\n",
        "      <td>    31.333175761</td>\n",
        "      <td>  38.666824239</td>\n",
        "    </tr>\n",
        "    <tr>\n",
        "      <th>21</th>\n",
        "      <td>     Sasse</td>\n",
        "      <td>          22.75</td>\n",
        "      <td>   15.9075223786</td>\n",
        "      <td> 29.5924776214</td>\n",
        "    </tr>\n",
        "    <tr>\n",
        "      <th>22</th>\n",
        "      <td>     Coons</td>\n",
        "      <td>  17.6666666667</td>\n",
        "      <td>   7.37796304462</td>\n",
        "      <td> 27.9553702887</td>\n",
        "    </tr>\n",
        "    <tr>\n",
        "      <th>23</th>\n",
        "      <td>    Markey</td>\n",
        "      <td>  24.1666666667</td>\n",
        "      <td>   17.5280155319</td>\n",
        "      <td> 30.8053178014</td>\n",
        "    </tr>\n",
        "    <tr>\n",
        "      <th>24</th>\n",
        "      <td>   Franken</td>\n",
        "      <td>  10.9230769231</td>\n",
        "      <td>   4.42424097815</td>\n",
        "      <td>  17.421912868</td>\n",
        "    </tr>\n",
        "    <tr>\n",
        "      <th>25</th>\n",
        "      <td>  Landrieu</td>\n",
        "      <td> 0.166666666667</td>\n",
        "      <td>  -9.99681480159</td>\n",
        "      <td> 10.3301481349</td>\n",
        "    </tr>\n",
        "    <tr>\n",
        "      <th>26</th>\n",
        "      <td>    Perdue</td>\n",
        "      <td>            2.0</td>\n",
        "      <td>  -7.91690274229</td>\n",
        "      <td> 11.9169027423</td>\n",
        "    </tr>\n",
        "    <tr>\n",
        "      <th>27</th>\n",
        "      <td>   Roberts</td>\n",
        "      <td>  7.77777777778</td>\n",
        "      <td>  -19.9527826249</td>\n",
        "      <td> 35.5083381805</td>\n",
        "    </tr>\n",
        "    <tr>\n",
        "      <th>28</th>\n",
        "      <td>  Lankford</td>\n",
        "      <td>  28.3333333333</td>\n",
        "      <td>   20.2784990361</td>\n",
        "      <td> 36.3881676305</td>\n",
        "    </tr>\n",
        "    <tr>\n",
        "      <th>29</th>\n",
        "      <td>     Udall</td>\n",
        "      <td>  15.8571428571</td>\n",
        "      <td>   7.38280512491</td>\n",
        "      <td> 24.3314805894</td>\n",
        "    </tr>\n",
        "    <tr>\n",
        "      <th>30</th>\n",
        "      <td>     Risch</td>\n",
        "      <td>           31.0</td>\n",
        "      <td>   22.6844242532</td>\n",
        "      <td> 39.3155757468</td>\n",
        "    </tr>\n",
        "    <tr>\n",
        "      <th>31</th>\n",
        "      <td>    Cornyn</td>\n",
        "      <td>           16.8</td>\n",
        "      <td>   10.4307538908</td>\n",
        "      <td> 23.1692461092</td>\n",
        "    </tr>\n",
        "    <tr>\n",
        "      <th>32</th>\n",
        "      <td>    Cotton</td>\n",
        "      <td>           0.78</td>\n",
        "      <td>  -8.46563391877</td>\n",
        "      <td> 10.0256339188</td>\n",
        "    </tr>\n",
        "    <tr>\n",
        "      <th>33</th>\n",
        "      <td>     Scott</td>\n",
        "      <td>          19.25</td>\n",
        "      <td>    13.149549197</td>\n",
        "      <td>  25.350450803</td>\n",
        "    </tr>\n",
        "    <tr>\n",
        "      <th>34</th>\n",
        "      <td>     Udall</td>\n",
        "      <td>            1.0</td>\n",
        "      <td>  -6.50622852481</td>\n",
        "      <td> 8.50622852481</td>\n",
        "    </tr>\n",
        "    <tr>\n",
        "      <th>35</th>\n",
        "      <td>   Shaheen</td>\n",
        "      <td>  15.3333333333</td>\n",
        "      <td>   7.77045322351</td>\n",
        "      <td> 22.8962134432</td>\n",
        "    </tr>\n",
        "  </tbody>\n",
        "</table>\n",
        "</div>"
       ],
       "metadata": {},
       "output_type": "pyout",
       "prompt_number": 214,
       "text": [
        "       Winner      Difference Lower Prediction Upper Prediction\n",
        "0      Daines            19.0            17.04            20.96\n",
        "1       Hagan   3.39583333333    -5.3580371995    12.1497038662\n",
        "2   Alexander           17.75     8.4142461472    27.0857538528\n",
        "3      Peters   3.13636363636   -5.58499477629     11.857722049\n",
        "4        Enzi            42.0    33.6844242532    50.3155757468\n",
        "5      Begich   1.63636363636   -9.15651372108    12.4292409938\n",
        "6     Merkley   11.9285714286  -0.976512840816     24.833655698\n",
        "7     Shaheen            6.95   -1.88033838536    15.7803383854\n",
        "8     Cochran   15.1666666667    11.6941523678    18.6391809655\n",
        "9        Reed            27.5             12.8             42.2\n",
        "10     Booker            13.0    5.66635152192    20.3336484781\n",
        "11     Warner         17.3125     4.2980640249    30.3269359751\n",
        "12     Rounds   13.7857142857    1.69940798478    25.8720205866\n",
        "13  McConnell   2.38636363636   -4.90209497473    9.67482224746\n",
        "14     Braley   1.65517241379   -7.61375287348    10.9240977011\n",
        "15     Inhofe            29.0    22.0243088753    35.9756911247\n",
        "16     Durbin   12.1111111111    2.44511368856    21.7771085337\n",
        "17     Graham   14.6666666667    9.27914198253    20.0541913508\n",
        "18    Collins   35.7142857143    17.6678567046    53.7607147239\n",
        "19     Capito   12.8181818182    2.45296088669    23.1834027497\n",
        "20     Schatz            35.0     31.333175761     38.666824239\n",
        "21      Sasse           22.75    15.9075223786    29.5924776214\n",
        "22      Coons   17.6666666667    7.37796304462    27.9553702887\n",
        "23     Markey   24.1666666667    17.5280155319    30.8053178014\n",
        "24    Franken   10.9230769231    4.42424097815     17.421912868\n",
        "25   Landrieu  0.166666666667   -9.99681480159    10.3301481349\n",
        "26     Perdue             2.0   -7.91690274229    11.9169027423\n",
        "27    Roberts   7.77777777778   -19.9527826249    35.5083381805\n",
        "28   Lankford   28.3333333333    20.2784990361    36.3881676305\n",
        "29      Udall   15.8571428571    7.38280512491    24.3314805894\n",
        "30      Risch            31.0    22.6844242532    39.3155757468\n",
        "31     Cornyn            16.8    10.4307538908    23.1692461092\n",
        "32     Cotton            0.78   -8.46563391877    10.0256339188\n",
        "33      Scott           19.25     13.149549197     25.350450803\n",
        "34      Udall             1.0   -6.50622852481    8.50622852481\n",
        "35    Shaheen   15.3333333333    7.77045322351    22.8962134432"
       ]
      }
     ],
     "prompt_number": 214
    },
    {
     "cell_type": "markdown",
     "metadata": {},
     "source": [
      "# Submission Instructions\n",
      "\n",
      "To submit your homework, create a folder named **lastname_firstinitial_hw#** and place your IPython notebooks, data files, and any other files in this folder. Your IPython Notebooks should be completely executed with the results visible in the notebook. We should not have to run any code.  Compress the folder (please use .zip compression) and submit to the CS109 dropbox in the appropriate folder. *If we cannot access your work because these directions are not followed correctly, we will not grade your work.*\n"
     ]
    },
    {
     "cell_type": "code",
     "collapsed": false,
     "input": [
      "print \"Summary: the above data frame uses poll averages to predict the winning percentage for each candidate\""
     ],
     "language": "python",
     "metadata": {},
     "outputs": [
      {
       "output_type": "stream",
       "stream": "stdout",
       "text": [
        "Summary: the above data frame uses poll averages to predict the winning percentage for each candidate\n"
       ]
      }
     ],
     "prompt_number": 215
    },
    {
     "cell_type": "code",
     "collapsed": false,
     "input": [],
     "language": "python",
     "metadata": {},
     "outputs": [],
     "prompt_number": 215
    }
   ],
   "metadata": {}
  }
 ]
}